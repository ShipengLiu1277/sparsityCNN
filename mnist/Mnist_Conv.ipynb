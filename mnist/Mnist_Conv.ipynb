{
 "cells": [
  {
   "cell_type": "code",
   "execution_count": 35,
   "metadata": {},
   "outputs": [],
   "source": [
    "import torch\n",
    "import torchvision\n",
    "from torch.utils.data import DataLoader\n",
    "from torch.utils.data import Dataset\n",
    "import torch.nn as nn\n",
    "import torch.nn.functional as F\n",
    "import torch.optim as optim\n",
    "import matplotlib.pyplot as plt\n",
    "# from torch.utils.tensorboard import SummaryWriter\n",
    "from torchvision import datasets, transforms, models, utils\n",
    "from tqdm import tqdm\n",
    "import numpy as np\n",
    "import pandas as pd\n",
    "# from torchsummary import summary\n"
   ]
  },
  {
   "cell_type": "code",
   "execution_count": 33,
   "metadata": {},
   "outputs": [],
   "source": [
    "\n",
    "class ConvNet(nn.Module):\n",
    "\n",
    "    def __init__(self):\n",
    "        super().__init__()\n",
    "        #self.conv1 = nn.Conv2d(1, 16, 11, padding=5)\n",
    "        #self.conv2 = nn.Conv2d(16, 16, 7, padding=3)\n",
    "        #self.conv3 = nn.Conv2d(16, 16, 5, padding=2)\n",
    "        self.conv3 = nn.Conv2d(1, 16, 5, padding=2)\n",
    "        #self.conv4 = nn.Conv2d(16, 16, 3, padding=1)\n",
    "        self.conv5 = nn.Conv2d(16, 16, 3, padding=1)\n",
    "        #self.conv5 = nn.Conv2d(16, 1, 3, padding=1)\n",
    "        self.conv6 = nn.Conv2d(16, 1, 1, padding=0)\n",
    "        self.fc1 = nn.Linear(28 * 28, 100)\n",
    "        self.fc2 = nn.Linear(100, 10)\n",
    "\n",
    "    def forward(self, x):\n",
    "        \n",
    "        #x = F.relu(self.conv1(x))\n",
    "        #x = F.relu(self.conv2(x))\n",
    "        x = F.relu(self.conv3(x))\n",
    "        #x = F.relu(self.conv4(x))\n",
    "        x = F.relu(self.conv5(x))\n",
    "        x = F.relu(self.conv6(x))\n",
    "        x = x.view(x.size(0), -1)\n",
    "        x = F.relu(self.fc1(x))\n",
    "        x = self.fc2(x)\n",
    "\n",
    "        return x\n"
   ]
  },
  {
   "cell_type": "code",
   "execution_count": 36,
   "metadata": {},
   "outputs": [],
   "source": [
    "\n",
    "class SparseDatasetMNIST(Dataset):\n",
    "    def __init__(self, file_path, transform=None, sparsity_level=0.0):\n",
    "        self.data = pd.read_csv(file_path)\n",
    "        self.transform = transform\n",
    "        self.sparsity_level = sparsity_level\n",
    "\n",
    "    def __len__(self):\n",
    "        return len(self.data)\n",
    "\n",
    "    def __getitem__(self, index):\n",
    "        # generate the random mask\n",
    "        tensor_length = 28 * 28\n",
    "        ones_count = int(tensor_length * self.sparsity_level)\n",
    "        ones_indices = torch.randperm(tensor_length)[:ones_count]\n",
    "        random_mask = torch.zeros(tensor_length).bool()\n",
    "        random_mask[ones_indices] = 1\n",
    "        random_mask = random_mask.reshape((28, 28, 1))\n",
    "\n",
    "        # generate the sparse image\n",
    "        image = self.data.iloc[index, 1:].values.astype(np.uint8).reshape((28, 28, 1))\n",
    "        image = torch.from_numpy(image)\n",
    "        processed_image = image.masked_fill(random_mask, 0).numpy()\n",
    "        label = self.data.iloc[index, 0]\n",
    "\n",
    "        if self.transform is not None:\n",
    "            # print(\"---\")\n",
    "            processed_image = self.transform(processed_image)\n",
    "\n",
    "        \n",
    "        #return processed_image, random_mask.reshape((1,28,28)).float(), label\n",
    "        return processed_image, label"
   ]
  },
  {
   "cell_type": "code",
   "execution_count": 37,
   "metadata": {},
   "outputs": [],
   "source": [
    "def train(train_loader, model, optimizer, criterion, device):\n",
    "    \"\"\"\n",
    "    Trains network for one epoch in batches.\n",
    "\n",
    "    Args:\n",
    "        train_loader: Data loader for training set.\n",
    "        model: Neural network model.\n",
    "        optimizer: Optimizer (e.g. SGD).\n",
    "        criterion: Loss function (e.g. cross-entropy loss).\n",
    "        device: whether the network runs on cpu or gpu\n",
    "    \"\"\"\n",
    "\n",
    "    avg_loss = 0\n",
    "    correct = 0\n",
    "    total = 0\n",
    "\n",
    "    # Switch to train mode\n",
    "    model.train()\n",
    "\n",
    "    # Iterate through batches\n",
    "    for i, data in enumerate(train_loader):\n",
    "        \n",
    "        inputs, labels = data\n",
    "        inputs, labels = inputs.to(device), labels.to(device)\n",
    "        optimizer.zero_grad()\n",
    "        outputs = model(inputs)\n",
    "        loss = criterion(outputs, labels)\n",
    "        \n",
    "        # ##########\n",
    "        # # Get the inputs; data is a list of [inputs, labels]\n",
    "        # inputs, mask, labels = data\n",
    "\n",
    "        # # Move data to target device\n",
    "        # inputs, mask, labels = inputs.to(device), mask.to(device), labels.to(device)\n",
    "\n",
    "        # # Zero the parameter gradients\n",
    "        # optimizer.zero_grad()\n",
    "\n",
    "        # # Forward + backward + optimize\n",
    "        # # Forward propagation\n",
    "        # mask = (inputs > 0).float()\n",
    "        # outputs = model(inputs, mask)\n",
    "\n",
    "        # # Loss computation\n",
    "        # loss = (criterion(outputs, labels) * mask.detach()).sum() / mask.sum()\n",
    "        # ############\n",
    "\n",
    "        loss.backward()\n",
    "        optimizer.step()\n",
    "\n",
    "        # Keep track of loss and accuracy\n",
    "        avg_loss += loss\n",
    "        _, predicted = torch.max(outputs.data, 1)\n",
    "        total += labels.size(0)\n",
    "        correct += (predicted == labels).sum().item()\n",
    "\n",
    "    return avg_loss / len(train_loader), 100 * correct / total"
   ]
  },
  {
   "cell_type": "code",
   "execution_count": 38,
   "metadata": {},
   "outputs": [],
   "source": [
    "def test(test_loader, model, criterion, device):\n",
    "    \"\"\"\n",
    "    Evaluates network in batches.\n",
    "\n",
    "    Args:\n",
    "        test_loader: Data loader for test set.\n",
    "        model: Neural network model.\n",
    "        criterion: Loss function (e.g. cross-entropy loss).\n",
    "    \"\"\"\n",
    "\n",
    "    avg_loss = 0\n",
    "    correct = 0\n",
    "    total = 0\n",
    "\n",
    "    # Switch to test mode\n",
    "    model.eval()\n",
    "\n",
    "    # Use torch.no_grad to skip gradient calculation, not needed for evaluation\n",
    "    with torch.no_grad():\n",
    "        # Iterate through batches\n",
    "        for data in test_loader:\n",
    "            \n",
    "            inputs, labels = data\n",
    "            inputs, labels = inputs.to(device), labels.to(device)\n",
    "            outputs = model(inputs)\n",
    "            loss = criterion(outputs, labels)\n",
    "            \n",
    "\n",
    "            # ###########\n",
    "            # # Get the inputs; data is a list of [inputs, labels]\n",
    "            # inputs, mask, labels = data\n",
    "\n",
    "            # # Move data to target device\n",
    "            # inputs, mask, labels = inputs.to(device), mask.to(device), labels.to(device)\n",
    "\n",
    "            # # Forward + backward + optimize\n",
    "            # # Forward propagation\n",
    "            # mask = (inputs > 0).float()\n",
    "            # outputs = model(inputs, mask)\n",
    "\n",
    "            # # Loss computation\n",
    "            # loss = (criterion(outputs, labels) * mask.detach()).sum() / mask.sum()\n",
    "            # ###########\n",
    "\n",
    "\n",
    "            # Keep track of loss and accuracy\n",
    "            avg_loss += loss\n",
    "            _, predicted = torch.max(outputs.data, 1)\n",
    "            total += labels.size(0)\n",
    "            correct += (predicted == labels).sum().item()\n",
    "\n",
    "    return avg_loss / len(test_loader), 100 * correct / total"
   ]
  },
  {
   "cell_type": "code",
   "execution_count": 25,
   "metadata": {},
   "outputs": [],
   "source": [
    "# hyperparameters\n",
    "n_epochs = 10\n",
    "batch_size_train = 64\n",
    "batch_size_test = 1000\n",
    "learning_rate = 0.01\n",
    "weight_decay = 1e-3\n",
    "#momentum = 0.5\n",
    "log_interval = 10\n",
    "random_seed = 42\n",
    "torch.manual_seed(random_seed)\n",
    "spar_level = [0, 0.1, 0.2, 0.3, 0.4, 0.5, 0.6, 0.7, 0.8, 0.9]\n",
    "# device\n",
    "device = 'cuda' if torch.cuda.is_available() else 'cpu'\n",
    "# device = torch.device(\"mps\") if torch.backends.mps.is_available() else torch.device(\"cpu\")\n",
    "# mps_avail = torch.backends.mps.is_available()\n",
    "# print(f\"Is the mps available? {mps_avail}\")\n"
   ]
  },
  {
   "cell_type": "code",
   "execution_count": 31,
   "metadata": {},
   "outputs": [
    {
     "name": "stdout",
     "output_type": "stream",
     "text": [
      "60000\n",
      "10000\n",
      "<class 'torch.utils.data.dataloader.DataLoader'>\n",
      "<class 'torch.utils.data.dataloader.DataLoader'>\n"
     ]
    }
   ],
   "source": [
    "\n",
    "the_transform = transforms.Compose([\n",
    "                           transforms.ToTensor(),\n",
    "                           transforms.Normalize((0.1307,), (0.3081,)),\n",
    "                       ])\n",
    "spar_level = 0.3\n",
    "training_set = SparseDatasetMNIST(file_path='C:/Users/79003/Desktop/mnist/data/mnist_train.csv', transform=the_transform, sparsity_level=spar_level)\n",
    "train_loader = DataLoader(training_set, batch_size=batch_size_train, shuffle=True)\n",
    "\n",
    "test_set = SparseDatasetMNIST(file_path='C:/Users/79003/Desktop/mnist/data/mnist_test.csv', transform=the_transform, sparsity_level=spar_level)\n",
    "test_loader = DataLoader(test_set, batch_size=batch_size_test, shuffle= False)\n",
    "\n",
    "print(len(training_set))\n",
    "print(len(test_set))\n",
    "print(type(train_loader))\n",
    "print(type(test_loader))\n",
    "# # draw some examples\n",
    "# examples = enumerate(test_loader)\n",
    "# #batch_idx, (example_data, example_mask, example_targets) = next(examples)\n",
    "# batch_idx, (example_data, example_targets) = next(examples)\n",
    "# # print(example_targets)\n",
    "# # print(example_data.shape)\n",
    "# '''\n",
    "# fig = plt.figure()\n",
    "# for i in range(6):\n",
    "#     plt.subplot(2, 3, i + 1)\n",
    "#     plt.tight_layout()\n",
    "#     plt.imshow(example_mask[i][0], cmap='gray', interpolation='none')\n",
    "#     plt.title(\"Example random mask\")\n",
    "#     plt.xticks([])\n",
    "#     plt.yticks([])\n",
    "# plt.show()\n",
    "# '''\n",
    "# fig = plt.figure()\n",
    "# for i in range(6):\n",
    "#     plt.subplot(2, 3, i + 1)\n",
    "#     plt.tight_layout()\n",
    "#     plt.imshow(example_data[i][0], cmap='gray', interpolation='none')\n",
    "#     plt.title(\"Ground Truth: {}\".format(example_targets[i]))\n",
    "#     plt.xticks([])\n",
    "#     plt.yticks([])\n",
    "# plt.show()\n",
    "\n"
   ]
  },
  {
   "cell_type": "code",
   "execution_count": 32,
   "metadata": {},
   "outputs": [
    {
     "name": "stderr",
     "output_type": "stream",
     "text": [
      "  0%|          | 0/10 [00:00<?, ?it/s]"
     ]
    },
    {
     "name": "stdout",
     "output_type": "stream",
     "text": [
      "\n",
      "Training for Sparsity Level: 0\n",
      "\n",
      "Training Loss: 0.2426, Training Acc: 92.3817\n"
     ]
    },
    {
     "name": "stderr",
     "output_type": "stream",
     "text": [
      " 10%|█         | 1/10 [00:14<02:07, 14.13s/it]"
     ]
    },
    {
     "name": "stdout",
     "output_type": "stream",
     "text": [
      "\n",
      "Training for Sparsity Level: 0\n",
      "\n",
      "Training Loss: 0.1252, Training Acc: 96.1717\n"
     ]
    },
    {
     "name": "stderr",
     "output_type": "stream",
     "text": [
      " 20%|██        | 2/10 [00:28<01:52, 14.11s/it]"
     ]
    },
    {
     "name": "stdout",
     "output_type": "stream",
     "text": [
      "\n",
      "Training for Sparsity Level: 0\n",
      "\n",
      "Training Loss: 0.1114, Training Acc: 96.5167\n"
     ]
    },
    {
     "name": "stderr",
     "output_type": "stream",
     "text": [
      " 30%|███       | 3/10 [00:41<01:38, 14.01s/it]"
     ]
    },
    {
     "name": "stdout",
     "output_type": "stream",
     "text": [
      "\n",
      "Training for Sparsity Level: 0\n",
      "\n",
      "Training Loss: 0.1067, Training Acc: 96.6700\n"
     ]
    },
    {
     "name": "stderr",
     "output_type": "stream",
     "text": [
      " 40%|████      | 4/10 [00:55<01:23, 13.95s/it]"
     ]
    },
    {
     "name": "stdout",
     "output_type": "stream",
     "text": [
      "\n",
      "Training for Sparsity Level: 0\n",
      "\n",
      "Training Loss: 0.1042, Training Acc: 96.8083\n"
     ]
    },
    {
     "name": "stderr",
     "output_type": "stream",
     "text": [
      " 50%|█████     | 5/10 [01:09<01:09, 13.90s/it]"
     ]
    },
    {
     "name": "stdout",
     "output_type": "stream",
     "text": [
      "\n",
      "Training for Sparsity Level: 0\n",
      "\n",
      "Training Loss: 0.1052, Training Acc: 96.7417\n"
     ]
    },
    {
     "name": "stderr",
     "output_type": "stream",
     "text": [
      " 60%|██████    | 6/10 [01:23<00:55, 13.85s/it]"
     ]
    },
    {
     "name": "stdout",
     "output_type": "stream",
     "text": [
      "\n",
      "Training for Sparsity Level: 0\n",
      "\n",
      "Training Loss: 0.1007, Training Acc: 96.9467\n"
     ]
    },
    {
     "name": "stderr",
     "output_type": "stream",
     "text": [
      " 70%|███████   | 7/10 [01:37<00:41, 13.85s/it]"
     ]
    },
    {
     "name": "stdout",
     "output_type": "stream",
     "text": [
      "\n",
      "Training for Sparsity Level: 0\n",
      "\n",
      "Training Loss: 0.1011, Training Acc: 96.8417\n"
     ]
    },
    {
     "name": "stderr",
     "output_type": "stream",
     "text": [
      " 80%|████████  | 8/10 [01:50<00:27, 13.72s/it]"
     ]
    },
    {
     "name": "stdout",
     "output_type": "stream",
     "text": [
      "\n",
      "Training for Sparsity Level: 0\n",
      "\n",
      "Training Loss: 0.1025, Training Acc: 96.8483\n"
     ]
    },
    {
     "name": "stderr",
     "output_type": "stream",
     "text": [
      " 90%|█████████ | 9/10 [02:04<00:13, 13.82s/it]"
     ]
    },
    {
     "name": "stdout",
     "output_type": "stream",
     "text": [
      "\n",
      "Training for Sparsity Level: 0\n",
      "\n",
      "Training Loss: 0.0993, Training Acc: 96.8750\n"
     ]
    },
    {
     "name": "stderr",
     "output_type": "stream",
     "text": [
      "100%|██████████| 10/10 [02:18<00:00, 13.83s/it]\n"
     ]
    },
    {
     "name": "stdout",
     "output_type": "stream",
     "text": [
      "\n",
      "Finished training for Sparsity Level: 0\n",
      "\n",
      "Test Loss: 0.0991, Test Acc: 96.8200\n"
     ]
    },
    {
     "name": "stderr",
     "output_type": "stream",
     "text": [
      "  0%|          | 0/10 [00:00<?, ?it/s]"
     ]
    },
    {
     "name": "stdout",
     "output_type": "stream",
     "text": [
      "\n",
      "Training for Sparsity Level: 0.1\n",
      "\n",
      "Training Loss: 0.2363, Training Acc: 92.7950\n"
     ]
    },
    {
     "name": "stderr",
     "output_type": "stream",
     "text": [
      " 10%|█         | 1/10 [00:14<02:06, 14.06s/it]"
     ]
    },
    {
     "name": "stdout",
     "output_type": "stream",
     "text": [
      "\n",
      "Training for Sparsity Level: 0.1\n",
      "\n",
      "Training Loss: 0.1361, Training Acc: 95.9200\n"
     ]
    },
    {
     "name": "stderr",
     "output_type": "stream",
     "text": [
      " 20%|██        | 2/10 [00:27<01:51, 13.93s/it]"
     ]
    },
    {
     "name": "stdout",
     "output_type": "stream",
     "text": [
      "\n",
      "Training for Sparsity Level: 0.1\n",
      "\n",
      "Training Loss: 0.1259, Training Acc: 96.2067\n"
     ]
    },
    {
     "name": "stderr",
     "output_type": "stream",
     "text": [
      " 30%|███       | 3/10 [00:41<01:37, 13.94s/it]"
     ]
    },
    {
     "name": "stdout",
     "output_type": "stream",
     "text": [
      "\n",
      "Training for Sparsity Level: 0.1\n",
      "\n",
      "Training Loss: 0.1202, Training Acc: 96.3200\n"
     ]
    },
    {
     "name": "stderr",
     "output_type": "stream",
     "text": [
      " 40%|████      | 4/10 [00:55<01:23, 13.91s/it]"
     ]
    },
    {
     "name": "stdout",
     "output_type": "stream",
     "text": [
      "\n",
      "Training for Sparsity Level: 0.1\n",
      "\n",
      "Training Loss: 0.1183, Training Acc: 96.3600\n"
     ]
    },
    {
     "name": "stderr",
     "output_type": "stream",
     "text": [
      " 50%|█████     | 5/10 [01:08<01:08, 13.74s/it]"
     ]
    },
    {
     "name": "stdout",
     "output_type": "stream",
     "text": [
      "\n",
      "Training for Sparsity Level: 0.1\n",
      "\n",
      "Training Loss: 0.1146, Training Acc: 96.4550\n"
     ]
    },
    {
     "name": "stderr",
     "output_type": "stream",
     "text": [
      " 60%|██████    | 6/10 [01:22<00:55, 13.80s/it]"
     ]
    },
    {
     "name": "stdout",
     "output_type": "stream",
     "text": [
      "\n",
      "Training for Sparsity Level: 0.1\n",
      "\n",
      "Training Loss: 0.1118, Training Acc: 96.5383\n"
     ]
    },
    {
     "name": "stderr",
     "output_type": "stream",
     "text": [
      " 70%|███████   | 7/10 [01:36<00:41, 13.71s/it]"
     ]
    },
    {
     "name": "stdout",
     "output_type": "stream",
     "text": [
      "\n",
      "Training for Sparsity Level: 0.1\n",
      "\n",
      "Training Loss: 0.1129, Training Acc: 96.5500\n"
     ]
    },
    {
     "name": "stderr",
     "output_type": "stream",
     "text": [
      " 80%|████████  | 8/10 [01:50<00:27, 13.80s/it]"
     ]
    },
    {
     "name": "stdout",
     "output_type": "stream",
     "text": [
      "\n",
      "Training for Sparsity Level: 0.1\n",
      "\n",
      "Training Loss: 0.1131, Training Acc: 96.4833\n"
     ]
    },
    {
     "name": "stderr",
     "output_type": "stream",
     "text": [
      " 90%|█████████ | 9/10 [02:04<00:13, 13.82s/it]"
     ]
    },
    {
     "name": "stdout",
     "output_type": "stream",
     "text": [
      "\n",
      "Training for Sparsity Level: 0.1\n",
      "\n",
      "Training Loss: 0.1121, Training Acc: 96.4983\n"
     ]
    },
    {
     "name": "stderr",
     "output_type": "stream",
     "text": [
      "100%|██████████| 10/10 [02:18<00:00, 13.83s/it]\n"
     ]
    },
    {
     "name": "stdout",
     "output_type": "stream",
     "text": [
      "\n",
      "Finished training for Sparsity Level: 0.1\n",
      "\n",
      "Test Loss: 0.0976, Test Acc: 97.0400\n"
     ]
    },
    {
     "name": "stderr",
     "output_type": "stream",
     "text": [
      "  0%|          | 0/10 [00:00<?, ?it/s]"
     ]
    },
    {
     "name": "stdout",
     "output_type": "stream",
     "text": [
      "\n",
      "Training for Sparsity Level: 0.2\n",
      "\n",
      "Training Loss: 0.3002, Training Acc: 90.4717\n"
     ]
    },
    {
     "name": "stderr",
     "output_type": "stream",
     "text": [
      " 10%|█         | 1/10 [00:13<02:05, 13.94s/it]"
     ]
    },
    {
     "name": "stdout",
     "output_type": "stream",
     "text": [
      "\n",
      "Training for Sparsity Level: 0.2\n",
      "\n",
      "Training Loss: 0.1642, Training Acc: 94.9133\n"
     ]
    },
    {
     "name": "stderr",
     "output_type": "stream",
     "text": [
      " 20%|██        | 2/10 [00:27<01:51, 13.92s/it]"
     ]
    },
    {
     "name": "stdout",
     "output_type": "stream",
     "text": [
      "\n",
      "Training for Sparsity Level: 0.2\n",
      "\n",
      "Training Loss: 0.1511, Training Acc: 95.3717\n"
     ]
    },
    {
     "name": "stderr",
     "output_type": "stream",
     "text": [
      " 30%|███       | 3/10 [00:41<01:37, 13.94s/it]"
     ]
    },
    {
     "name": "stdout",
     "output_type": "stream",
     "text": [
      "\n",
      "Training for Sparsity Level: 0.2\n",
      "\n",
      "Training Loss: 0.1437, Training Acc: 95.5367\n"
     ]
    },
    {
     "name": "stderr",
     "output_type": "stream",
     "text": [
      " 40%|████      | 4/10 [00:55<01:23, 13.90s/it]"
     ]
    },
    {
     "name": "stdout",
     "output_type": "stream",
     "text": [
      "\n",
      "Training for Sparsity Level: 0.2\n",
      "\n",
      "Training Loss: 0.1373, Training Acc: 95.8133\n"
     ]
    },
    {
     "name": "stderr",
     "output_type": "stream",
     "text": [
      " 50%|█████     | 5/10 [01:09<01:09, 13.96s/it]"
     ]
    },
    {
     "name": "stdout",
     "output_type": "stream",
     "text": [
      "\n",
      "Training for Sparsity Level: 0.2\n",
      "\n",
      "Training Loss: 0.1334, Training Acc: 95.8900\n"
     ]
    },
    {
     "name": "stderr",
     "output_type": "stream",
     "text": [
      " 60%|██████    | 6/10 [01:23<00:55, 13.88s/it]"
     ]
    },
    {
     "name": "stdout",
     "output_type": "stream",
     "text": [
      "\n",
      "Training for Sparsity Level: 0.2\n",
      "\n",
      "Training Loss: 0.1358, Training Acc: 95.7817\n"
     ]
    },
    {
     "name": "stderr",
     "output_type": "stream",
     "text": [
      " 70%|███████   | 7/10 [01:37<00:41, 13.98s/it]"
     ]
    },
    {
     "name": "stdout",
     "output_type": "stream",
     "text": [
      "\n",
      "Training for Sparsity Level: 0.2\n",
      "\n",
      "Training Loss: 0.1326, Training Acc: 95.9600\n"
     ]
    },
    {
     "name": "stderr",
     "output_type": "stream",
     "text": [
      " 80%|████████  | 8/10 [01:51<00:27, 13.91s/it]"
     ]
    },
    {
     "name": "stdout",
     "output_type": "stream",
     "text": [
      "\n",
      "Training for Sparsity Level: 0.2\n",
      "\n",
      "Training Loss: 0.1297, Training Acc: 95.9617\n"
     ]
    },
    {
     "name": "stderr",
     "output_type": "stream",
     "text": [
      " 90%|█████████ | 9/10 [02:05<00:13, 14.00s/it]"
     ]
    },
    {
     "name": "stdout",
     "output_type": "stream",
     "text": [
      "\n",
      "Training for Sparsity Level: 0.2\n",
      "\n",
      "Training Loss: 0.1300, Training Acc: 96.0017\n"
     ]
    },
    {
     "name": "stderr",
     "output_type": "stream",
     "text": [
      "100%|██████████| 10/10 [02:19<00:00, 13.96s/it]\n"
     ]
    },
    {
     "name": "stdout",
     "output_type": "stream",
     "text": [
      "\n",
      "Finished training for Sparsity Level: 0.2\n",
      "\n",
      "Test Loss: 0.1265, Test Acc: 96.0100\n"
     ]
    },
    {
     "name": "stderr",
     "output_type": "stream",
     "text": [
      "  0%|          | 0/10 [00:00<?, ?it/s]"
     ]
    },
    {
     "name": "stdout",
     "output_type": "stream",
     "text": [
      "\n",
      "Training for Sparsity Level: 0.3\n",
      "\n",
      "Training Loss: 0.3298, Training Acc: 89.5283\n"
     ]
    },
    {
     "name": "stderr",
     "output_type": "stream",
     "text": [
      " 10%|█         | 1/10 [00:14<02:06, 14.09s/it]"
     ]
    },
    {
     "name": "stdout",
     "output_type": "stream",
     "text": [
      "\n",
      "Training for Sparsity Level: 0.3\n",
      "\n",
      "Training Loss: 0.1944, Training Acc: 93.9133\n"
     ]
    },
    {
     "name": "stderr",
     "output_type": "stream",
     "text": [
      " 20%|██        | 2/10 [00:28<01:53, 14.18s/it]"
     ]
    },
    {
     "name": "stdout",
     "output_type": "stream",
     "text": [
      "\n",
      "Training for Sparsity Level: 0.3\n",
      "\n",
      "Training Loss: 0.1706, Training Acc: 94.7233\n"
     ]
    },
    {
     "name": "stderr",
     "output_type": "stream",
     "text": [
      " 30%|███       | 3/10 [00:42<01:38, 14.05s/it]"
     ]
    },
    {
     "name": "stdout",
     "output_type": "stream",
     "text": [
      "\n",
      "Training for Sparsity Level: 0.3\n",
      "\n",
      "Training Loss: 0.1593, Training Acc: 95.0267\n"
     ]
    },
    {
     "name": "stderr",
     "output_type": "stream",
     "text": [
      " 40%|████      | 4/10 [00:56<01:24, 14.01s/it]"
     ]
    },
    {
     "name": "stdout",
     "output_type": "stream",
     "text": [
      "\n",
      "Training for Sparsity Level: 0.3\n",
      "\n",
      "Training Loss: 0.1503, Training Acc: 95.3267\n"
     ]
    },
    {
     "name": "stderr",
     "output_type": "stream",
     "text": [
      " 50%|█████     | 5/10 [01:09<01:09, 13.94s/it]"
     ]
    },
    {
     "name": "stdout",
     "output_type": "stream",
     "text": [
      "\n",
      "Training for Sparsity Level: 0.3\n",
      "\n",
      "Training Loss: 0.1487, Training Acc: 95.4100\n"
     ]
    },
    {
     "name": "stderr",
     "output_type": "stream",
     "text": [
      " 60%|██████    | 6/10 [01:24<00:56, 14.10s/it]"
     ]
    },
    {
     "name": "stdout",
     "output_type": "stream",
     "text": [
      "\n",
      "Training for Sparsity Level: 0.3\n",
      "\n",
      "Training Loss: 0.1403, Training Acc: 95.7033\n"
     ]
    },
    {
     "name": "stderr",
     "output_type": "stream",
     "text": [
      " 70%|███████   | 7/10 [01:38<00:42, 14.03s/it]"
     ]
    },
    {
     "name": "stdout",
     "output_type": "stream",
     "text": [
      "\n",
      "Training for Sparsity Level: 0.3\n",
      "\n",
      "Training Loss: 0.1394, Training Acc: 95.6850\n"
     ]
    },
    {
     "name": "stderr",
     "output_type": "stream",
     "text": [
      " 80%|████████  | 8/10 [01:52<00:28, 14.01s/it]"
     ]
    },
    {
     "name": "stdout",
     "output_type": "stream",
     "text": [
      "\n",
      "Training for Sparsity Level: 0.3\n",
      "\n",
      "Training Loss: 0.1386, Training Acc: 95.6850\n"
     ]
    },
    {
     "name": "stderr",
     "output_type": "stream",
     "text": [
      " 90%|█████████ | 9/10 [02:06<00:14, 14.01s/it]"
     ]
    },
    {
     "name": "stdout",
     "output_type": "stream",
     "text": [
      "\n",
      "Training for Sparsity Level: 0.3\n",
      "\n",
      "Training Loss: 0.1377, Training Acc: 95.7550\n"
     ]
    },
    {
     "name": "stderr",
     "output_type": "stream",
     "text": [
      "100%|██████████| 10/10 [02:20<00:00, 14.01s/it]\n"
     ]
    },
    {
     "name": "stdout",
     "output_type": "stream",
     "text": [
      "\n",
      "Finished training for Sparsity Level: 0.3\n",
      "\n",
      "Test Loss: 0.1245, Test Acc: 95.9000\n"
     ]
    },
    {
     "name": "stderr",
     "output_type": "stream",
     "text": [
      "  0%|          | 0/10 [00:00<?, ?it/s]"
     ]
    },
    {
     "name": "stdout",
     "output_type": "stream",
     "text": [
      "\n",
      "Training for Sparsity Level: 0.4\n",
      "\n",
      "Training Loss: 0.5772, Training Acc: 79.7917\n"
     ]
    },
    {
     "name": "stderr",
     "output_type": "stream",
     "text": [
      " 10%|█         | 1/10 [00:14<02:10, 14.51s/it]"
     ]
    },
    {
     "name": "stdout",
     "output_type": "stream",
     "text": [
      "\n",
      "Training for Sparsity Level: 0.4\n",
      "\n",
      "Training Loss: 0.2108, Training Acc: 93.6967\n"
     ]
    },
    {
     "name": "stderr",
     "output_type": "stream",
     "text": [
      " 20%|██        | 2/10 [00:28<01:53, 14.23s/it]"
     ]
    },
    {
     "name": "stdout",
     "output_type": "stream",
     "text": [
      "\n",
      "Training for Sparsity Level: 0.4\n",
      "\n",
      "Training Loss: 0.1975, Training Acc: 93.9833\n"
     ]
    },
    {
     "name": "stderr",
     "output_type": "stream",
     "text": [
      " 30%|███       | 3/10 [00:42<01:39, 14.28s/it]"
     ]
    },
    {
     "name": "stdout",
     "output_type": "stream",
     "text": [
      "\n",
      "Training for Sparsity Level: 0.4\n",
      "\n",
      "Training Loss: 0.1837, Training Acc: 94.4417\n"
     ]
    },
    {
     "name": "stderr",
     "output_type": "stream",
     "text": [
      " 40%|████      | 4/10 [00:56<01:24, 14.16s/it]"
     ]
    },
    {
     "name": "stdout",
     "output_type": "stream",
     "text": [
      "\n",
      "Training for Sparsity Level: 0.4\n",
      "\n",
      "Training Loss: 0.1736, Training Acc: 94.6867\n"
     ]
    },
    {
     "name": "stderr",
     "output_type": "stream",
     "text": [
      " 50%|█████     | 5/10 [01:10<01:11, 14.29s/it]"
     ]
    },
    {
     "name": "stdout",
     "output_type": "stream",
     "text": [
      "\n",
      "Training for Sparsity Level: 0.4\n",
      "\n",
      "Training Loss: 0.1733, Training Acc: 94.7833\n"
     ]
    },
    {
     "name": "stderr",
     "output_type": "stream",
     "text": [
      " 60%|██████    | 6/10 [01:24<00:56, 14.14s/it]"
     ]
    },
    {
     "name": "stdout",
     "output_type": "stream",
     "text": [
      "\n",
      "Training for Sparsity Level: 0.4\n",
      "\n",
      "Training Loss: 0.1699, Training Acc: 94.7850\n"
     ]
    },
    {
     "name": "stderr",
     "output_type": "stream",
     "text": [
      " 70%|███████   | 7/10 [01:39<00:42, 14.19s/it]"
     ]
    },
    {
     "name": "stdout",
     "output_type": "stream",
     "text": [
      "\n",
      "Training for Sparsity Level: 0.4\n",
      "\n",
      "Training Loss: 0.1799, Training Acc: 94.4583\n"
     ]
    },
    {
     "name": "stderr",
     "output_type": "stream",
     "text": [
      " 80%|████████  | 8/10 [01:53<00:28, 14.19s/it]"
     ]
    },
    {
     "name": "stdout",
     "output_type": "stream",
     "text": [
      "\n",
      "Training for Sparsity Level: 0.4\n",
      "\n",
      "Training Loss: 0.1651, Training Acc: 95.0100\n"
     ]
    },
    {
     "name": "stderr",
     "output_type": "stream",
     "text": [
      " 90%|█████████ | 9/10 [02:07<00:14, 14.19s/it]"
     ]
    },
    {
     "name": "stdout",
     "output_type": "stream",
     "text": [
      "\n",
      "Training for Sparsity Level: 0.4\n",
      "\n",
      "Training Loss: 0.1616, Training Acc: 95.1233\n"
     ]
    },
    {
     "name": "stderr",
     "output_type": "stream",
     "text": [
      "100%|██████████| 10/10 [02:21<00:00, 14.13s/it]\n"
     ]
    },
    {
     "name": "stdout",
     "output_type": "stream",
     "text": [
      "\n",
      "Finished training for Sparsity Level: 0.4\n",
      "\n",
      "Test Loss: 0.1384, Test Acc: 95.8900\n"
     ]
    },
    {
     "name": "stderr",
     "output_type": "stream",
     "text": [
      "  0%|          | 0/10 [00:00<?, ?it/s]"
     ]
    },
    {
     "name": "stdout",
     "output_type": "stream",
     "text": [
      "\n",
      "Training for Sparsity Level: 0.5\n",
      "\n",
      "Training Loss: 0.3089, Training Acc: 90.2900\n"
     ]
    },
    {
     "name": "stderr",
     "output_type": "stream",
     "text": [
      " 10%|█         | 1/10 [00:14<02:08, 14.25s/it]"
     ]
    },
    {
     "name": "stdout",
     "output_type": "stream",
     "text": [
      "\n",
      "Training for Sparsity Level: 0.5\n",
      "\n",
      "Training Loss: 0.1867, Training Acc: 94.1867\n"
     ]
    },
    {
     "name": "stderr",
     "output_type": "stream",
     "text": [
      " 20%|██        | 2/10 [00:28<01:53, 14.24s/it]"
     ]
    },
    {
     "name": "stdout",
     "output_type": "stream",
     "text": [
      "\n",
      "Training for Sparsity Level: 0.5\n",
      "\n",
      "Training Loss: 0.1810, Training Acc: 94.2667\n"
     ]
    },
    {
     "name": "stderr",
     "output_type": "stream",
     "text": [
      " 30%|███       | 3/10 [00:42<01:39, 14.22s/it]"
     ]
    },
    {
     "name": "stdout",
     "output_type": "stream",
     "text": [
      "\n",
      "Training for Sparsity Level: 0.5\n",
      "\n",
      "Training Loss: 0.1722, Training Acc: 94.5583\n"
     ]
    },
    {
     "name": "stderr",
     "output_type": "stream",
     "text": [
      " 40%|████      | 4/10 [00:57<01:25, 14.30s/it]"
     ]
    },
    {
     "name": "stdout",
     "output_type": "stream",
     "text": [
      "\n",
      "Training for Sparsity Level: 0.5\n",
      "\n",
      "Training Loss: 0.1688, Training Acc: 94.7517\n"
     ]
    },
    {
     "name": "stderr",
     "output_type": "stream",
     "text": [
      " 50%|█████     | 5/10 [01:11<01:10, 14.18s/it]"
     ]
    },
    {
     "name": "stdout",
     "output_type": "stream",
     "text": [
      "\n",
      "Training for Sparsity Level: 0.5\n",
      "\n",
      "Training Loss: 0.1650, Training Acc: 94.8167\n"
     ]
    },
    {
     "name": "stderr",
     "output_type": "stream",
     "text": [
      " 60%|██████    | 6/10 [01:25<00:57, 14.31s/it]"
     ]
    },
    {
     "name": "stdout",
     "output_type": "stream",
     "text": [
      "\n",
      "Training for Sparsity Level: 0.5\n",
      "\n",
      "Training Loss: 0.1669, Training Acc: 94.7317\n"
     ]
    },
    {
     "name": "stderr",
     "output_type": "stream",
     "text": [
      " 70%|███████   | 7/10 [01:39<00:42, 14.13s/it]"
     ]
    },
    {
     "name": "stdout",
     "output_type": "stream",
     "text": [
      "\n",
      "Training for Sparsity Level: 0.5\n",
      "\n",
      "Training Loss: 0.1632, Training Acc: 94.9417\n"
     ]
    },
    {
     "name": "stderr",
     "output_type": "stream",
     "text": [
      " 80%|████████  | 8/10 [01:53<00:28, 14.20s/it]"
     ]
    },
    {
     "name": "stdout",
     "output_type": "stream",
     "text": [
      "\n",
      "Training for Sparsity Level: 0.5\n",
      "\n",
      "Training Loss: 0.1621, Training Acc: 94.9450\n"
     ]
    },
    {
     "name": "stderr",
     "output_type": "stream",
     "text": [
      " 90%|█████████ | 9/10 [02:07<00:14, 14.20s/it]"
     ]
    },
    {
     "name": "stdout",
     "output_type": "stream",
     "text": [
      "\n",
      "Training for Sparsity Level: 0.5\n",
      "\n",
      "Training Loss: 0.1608, Training Acc: 95.0300\n"
     ]
    },
    {
     "name": "stderr",
     "output_type": "stream",
     "text": [
      "100%|██████████| 10/10 [02:22<00:00, 14.20s/it]\n"
     ]
    },
    {
     "name": "stdout",
     "output_type": "stream",
     "text": [
      "\n",
      "Finished training for Sparsity Level: 0.5\n",
      "\n",
      "Test Loss: 0.1531, Test Acc: 95.1100\n"
     ]
    },
    {
     "name": "stderr",
     "output_type": "stream",
     "text": [
      "  0%|          | 0/10 [00:00<?, ?it/s]"
     ]
    },
    {
     "name": "stdout",
     "output_type": "stream",
     "text": [
      "\n",
      "Training for Sparsity Level: 0.6\n",
      "\n",
      "Training Loss: 0.4245, Training Acc: 86.1900\n"
     ]
    },
    {
     "name": "stderr",
     "output_type": "stream",
     "text": [
      " 10%|█         | 1/10 [00:14<02:07, 14.21s/it]"
     ]
    },
    {
     "name": "stdout",
     "output_type": "stream",
     "text": [
      "\n",
      "Training for Sparsity Level: 0.6\n",
      "\n",
      "Training Loss: 0.2596, Training Acc: 91.7817\n"
     ]
    },
    {
     "name": "stderr",
     "output_type": "stream",
     "text": [
      " 20%|██        | 2/10 [00:28<01:52, 14.10s/it]"
     ]
    },
    {
     "name": "stdout",
     "output_type": "stream",
     "text": [
      "\n",
      "Training for Sparsity Level: 0.6\n",
      "\n",
      "Training Loss: 0.2403, Training Acc: 92.3217\n"
     ]
    },
    {
     "name": "stderr",
     "output_type": "stream",
     "text": [
      " 30%|███       | 3/10 [00:42<01:39, 14.14s/it]"
     ]
    },
    {
     "name": "stdout",
     "output_type": "stream",
     "text": [
      "\n",
      "Training for Sparsity Level: 0.6\n",
      "\n",
      "Training Loss: 0.2383, Training Acc: 92.4833\n"
     ]
    },
    {
     "name": "stderr",
     "output_type": "stream",
     "text": [
      " 40%|████      | 4/10 [00:56<01:24, 14.04s/it]"
     ]
    },
    {
     "name": "stdout",
     "output_type": "stream",
     "text": [
      "\n",
      "Training for Sparsity Level: 0.6\n",
      "\n",
      "Training Loss: 0.2289, Training Acc: 92.6167\n"
     ]
    },
    {
     "name": "stderr",
     "output_type": "stream",
     "text": [
      " 50%|█████     | 5/10 [01:10<01:10, 14.09s/it]"
     ]
    },
    {
     "name": "stdout",
     "output_type": "stream",
     "text": [
      "\n",
      "Training for Sparsity Level: 0.6\n",
      "\n",
      "Training Loss: 0.2224, Training Acc: 92.9733\n"
     ]
    },
    {
     "name": "stderr",
     "output_type": "stream",
     "text": [
      " 60%|██████    | 6/10 [01:23<00:55, 13.91s/it]"
     ]
    },
    {
     "name": "stdout",
     "output_type": "stream",
     "text": [
      "\n",
      "Training for Sparsity Level: 0.6\n",
      "\n",
      "Training Loss: 0.2153, Training Acc: 93.1333\n"
     ]
    },
    {
     "name": "stderr",
     "output_type": "stream",
     "text": [
      " 70%|███████   | 7/10 [01:37<00:41, 13.90s/it]"
     ]
    },
    {
     "name": "stdout",
     "output_type": "stream",
     "text": [
      "\n",
      "Training for Sparsity Level: 0.6\n",
      "\n",
      "Training Loss: 0.2211, Training Acc: 92.9433\n"
     ]
    },
    {
     "name": "stderr",
     "output_type": "stream",
     "text": [
      " 80%|████████  | 8/10 [01:51<00:27, 13.93s/it]"
     ]
    },
    {
     "name": "stdout",
     "output_type": "stream",
     "text": [
      "\n",
      "Training for Sparsity Level: 0.6\n",
      "\n",
      "Training Loss: 0.2169, Training Acc: 93.1000\n"
     ]
    },
    {
     "name": "stderr",
     "output_type": "stream",
     "text": [
      " 90%|█████████ | 9/10 [02:06<00:14, 14.06s/it]"
     ]
    },
    {
     "name": "stdout",
     "output_type": "stream",
     "text": [
      "\n",
      "Training for Sparsity Level: 0.6\n",
      "\n",
      "Training Loss: 0.2182, Training Acc: 92.9450\n"
     ]
    },
    {
     "name": "stderr",
     "output_type": "stream",
     "text": [
      "100%|██████████| 10/10 [02:19<00:00, 13.99s/it]\n"
     ]
    },
    {
     "name": "stdout",
     "output_type": "stream",
     "text": [
      "\n",
      "Finished training for Sparsity Level: 0.6\n",
      "\n",
      "Test Loss: 0.1999, Test Acc: 93.6900\n"
     ]
    },
    {
     "name": "stderr",
     "output_type": "stream",
     "text": [
      "  0%|          | 0/10 [00:00<?, ?it/s]"
     ]
    },
    {
     "name": "stdout",
     "output_type": "stream",
     "text": [
      "\n",
      "Training for Sparsity Level: 0.7\n",
      "\n",
      "Training Loss: 0.3959, Training Acc: 87.3300\n"
     ]
    },
    {
     "name": "stderr",
     "output_type": "stream",
     "text": [
      " 10%|█         | 1/10 [00:13<02:05, 13.91s/it]"
     ]
    },
    {
     "name": "stdout",
     "output_type": "stream",
     "text": [
      "\n",
      "Training for Sparsity Level: 0.7\n",
      "\n",
      "Training Loss: 0.2766, Training Acc: 91.1383\n"
     ]
    },
    {
     "name": "stderr",
     "output_type": "stream",
     "text": [
      " 20%|██        | 2/10 [00:28<01:52, 14.01s/it]"
     ]
    },
    {
     "name": "stdout",
     "output_type": "stream",
     "text": [
      "\n",
      "Training for Sparsity Level: 0.7\n",
      "\n",
      "Training Loss: 0.2747, Training Acc: 91.1917\n"
     ]
    },
    {
     "name": "stderr",
     "output_type": "stream",
     "text": [
      " 30%|███       | 3/10 [00:42<01:37, 13.97s/it]"
     ]
    },
    {
     "name": "stdout",
     "output_type": "stream",
     "text": [
      "\n",
      "Training for Sparsity Level: 0.7\n",
      "\n",
      "Training Loss: 0.2627, Training Acc: 91.4350\n"
     ]
    },
    {
     "name": "stderr",
     "output_type": "stream",
     "text": [
      " 40%|████      | 4/10 [00:56<01:24, 14.02s/it]"
     ]
    },
    {
     "name": "stdout",
     "output_type": "stream",
     "text": [
      "\n",
      "Training for Sparsity Level: 0.7\n",
      "\n",
      "Training Loss: 0.2485, Training Acc: 92.0417\n"
     ]
    },
    {
     "name": "stderr",
     "output_type": "stream",
     "text": [
      " 50%|█████     | 5/10 [01:09<01:09, 13.93s/it]"
     ]
    },
    {
     "name": "stdout",
     "output_type": "stream",
     "text": [
      "\n",
      "Training for Sparsity Level: 0.7\n",
      "\n",
      "Training Loss: 0.2501, Training Acc: 92.0533\n"
     ]
    },
    {
     "name": "stderr",
     "output_type": "stream",
     "text": [
      " 60%|██████    | 6/10 [01:24<00:56, 14.03s/it]"
     ]
    },
    {
     "name": "stdout",
     "output_type": "stream",
     "text": [
      "\n",
      "Training for Sparsity Level: 0.7\n",
      "\n",
      "Training Loss: 0.2590, Training Acc: 91.5650\n"
     ]
    },
    {
     "name": "stderr",
     "output_type": "stream",
     "text": [
      " 70%|███████   | 7/10 [01:37<00:41, 13.92s/it]"
     ]
    },
    {
     "name": "stdout",
     "output_type": "stream",
     "text": [
      "\n",
      "Training for Sparsity Level: 0.7\n",
      "\n",
      "Training Loss: 0.2459, Training Acc: 92.1067\n"
     ]
    },
    {
     "name": "stderr",
     "output_type": "stream",
     "text": [
      " 80%|████████  | 8/10 [01:52<00:28, 14.07s/it]"
     ]
    },
    {
     "name": "stdout",
     "output_type": "stream",
     "text": [
      "\n",
      "Training for Sparsity Level: 0.7\n",
      "\n",
      "Training Loss: 0.2458, Training Acc: 92.0767\n"
     ]
    },
    {
     "name": "stderr",
     "output_type": "stream",
     "text": [
      " 90%|█████████ | 9/10 [02:06<00:14, 14.06s/it]"
     ]
    },
    {
     "name": "stdout",
     "output_type": "stream",
     "text": [
      "\n",
      "Training for Sparsity Level: 0.7\n",
      "\n",
      "Training Loss: 0.2613, Training Acc: 91.6117\n"
     ]
    },
    {
     "name": "stderr",
     "output_type": "stream",
     "text": [
      "100%|██████████| 10/10 [02:20<00:00, 14.03s/it]\n"
     ]
    },
    {
     "name": "stdout",
     "output_type": "stream",
     "text": [
      "\n",
      "Finished training for Sparsity Level: 0.7\n",
      "\n",
      "Test Loss: 0.2763, Test Acc: 90.7700\n"
     ]
    },
    {
     "name": "stderr",
     "output_type": "stream",
     "text": [
      "  0%|          | 0/10 [00:00<?, ?it/s]"
     ]
    },
    {
     "name": "stdout",
     "output_type": "stream",
     "text": [
      "\n",
      "Training for Sparsity Level: 0.8\n",
      "\n",
      "Training Loss: 0.5358, Training Acc: 82.1000\n"
     ]
    },
    {
     "name": "stderr",
     "output_type": "stream",
     "text": [
      " 10%|█         | 1/10 [00:14<02:07, 14.14s/it]"
     ]
    },
    {
     "name": "stdout",
     "output_type": "stream",
     "text": [
      "\n",
      "Training for Sparsity Level: 0.8\n",
      "\n",
      "Training Loss: 0.3950, Training Acc: 87.0350\n"
     ]
    },
    {
     "name": "stderr",
     "output_type": "stream",
     "text": [
      " 20%|██        | 2/10 [00:27<01:52, 14.02s/it]"
     ]
    },
    {
     "name": "stdout",
     "output_type": "stream",
     "text": [
      "\n",
      "Training for Sparsity Level: 0.8\n",
      "\n",
      "Training Loss: 0.3920, Training Acc: 86.9767\n"
     ]
    },
    {
     "name": "stderr",
     "output_type": "stream",
     "text": [
      " 30%|███       | 3/10 [00:42<01:38, 14.06s/it]"
     ]
    },
    {
     "name": "stdout",
     "output_type": "stream",
     "text": [
      "\n",
      "Training for Sparsity Level: 0.8\n",
      "\n",
      "Training Loss: 0.4375, Training Acc: 85.5150\n"
     ]
    },
    {
     "name": "stderr",
     "output_type": "stream",
     "text": [
      " 40%|████      | 4/10 [00:56<01:25, 14.17s/it]"
     ]
    },
    {
     "name": "stdout",
     "output_type": "stream",
     "text": [
      "\n",
      "Training for Sparsity Level: 0.8\n",
      "\n",
      "Training Loss: 0.4700, Training Acc: 84.7617\n"
     ]
    },
    {
     "name": "stderr",
     "output_type": "stream",
     "text": [
      " 50%|█████     | 5/10 [01:11<01:11, 14.38s/it]"
     ]
    },
    {
     "name": "stdout",
     "output_type": "stream",
     "text": [
      "\n",
      "Training for Sparsity Level: 0.8\n",
      "\n",
      "Training Loss: 0.4499, Training Acc: 85.1983\n"
     ]
    },
    {
     "name": "stderr",
     "output_type": "stream",
     "text": [
      " 60%|██████    | 6/10 [01:26<00:58, 14.57s/it]"
     ]
    },
    {
     "name": "stdout",
     "output_type": "stream",
     "text": [
      "\n",
      "Training for Sparsity Level: 0.8\n",
      "\n",
      "Training Loss: 0.4020, Training Acc: 86.7733\n"
     ]
    },
    {
     "name": "stderr",
     "output_type": "stream",
     "text": [
      " 70%|███████   | 7/10 [01:41<00:43, 14.66s/it]"
     ]
    },
    {
     "name": "stdout",
     "output_type": "stream",
     "text": [
      "\n",
      "Training for Sparsity Level: 0.8\n",
      "\n",
      "Training Loss: 0.3924, Training Acc: 87.0450\n"
     ]
    },
    {
     "name": "stderr",
     "output_type": "stream",
     "text": [
      " 80%|████████  | 8/10 [01:55<00:29, 14.62s/it]"
     ]
    },
    {
     "name": "stdout",
     "output_type": "stream",
     "text": [
      "\n",
      "Training for Sparsity Level: 0.8\n",
      "\n",
      "Training Loss: 0.4154, Training Acc: 86.2367\n"
     ]
    },
    {
     "name": "stderr",
     "output_type": "stream",
     "text": [
      " 90%|█████████ | 9/10 [02:10<00:14, 14.58s/it]"
     ]
    },
    {
     "name": "stdout",
     "output_type": "stream",
     "text": [
      "\n",
      "Training for Sparsity Level: 0.8\n",
      "\n",
      "Training Loss: 0.3985, Training Acc: 86.7983\n"
     ]
    },
    {
     "name": "stderr",
     "output_type": "stream",
     "text": [
      "100%|██████████| 10/10 [02:24<00:00, 14.50s/it]\n"
     ]
    },
    {
     "name": "stdout",
     "output_type": "stream",
     "text": [
      "\n",
      "Finished training for Sparsity Level: 0.8\n",
      "\n",
      "Test Loss: 0.3352, Test Acc: 88.9900\n"
     ]
    },
    {
     "name": "stderr",
     "output_type": "stream",
     "text": [
      "  0%|          | 0/10 [00:00<?, ?it/s]"
     ]
    },
    {
     "name": "stdout",
     "output_type": "stream",
     "text": [
      "\n",
      "Training for Sparsity Level: 0.9\n",
      "\n",
      "Training Loss: 0.9202, Training Acc: 68.9417\n"
     ]
    },
    {
     "name": "stderr",
     "output_type": "stream",
     "text": [
      " 10%|█         | 1/10 [00:14<02:10, 14.47s/it]"
     ]
    },
    {
     "name": "stdout",
     "output_type": "stream",
     "text": [
      "\n",
      "Training for Sparsity Level: 0.9\n",
      "\n",
      "Training Loss: 0.7853, Training Acc: 73.2900\n"
     ]
    },
    {
     "name": "stderr",
     "output_type": "stream",
     "text": [
      " 20%|██        | 2/10 [00:29<01:56, 14.53s/it]"
     ]
    },
    {
     "name": "stdout",
     "output_type": "stream",
     "text": [
      "\n",
      "Training for Sparsity Level: 0.9\n",
      "\n",
      "Training Loss: 0.7785, Training Acc: 73.5783\n"
     ]
    },
    {
     "name": "stderr",
     "output_type": "stream",
     "text": [
      " 30%|███       | 3/10 [00:44<01:42, 14.64s/it]"
     ]
    },
    {
     "name": "stdout",
     "output_type": "stream",
     "text": [
      "\n",
      "Training for Sparsity Level: 0.9\n",
      "\n",
      "Training Loss: 0.7463, Training Acc: 74.6550\n"
     ]
    },
    {
     "name": "stderr",
     "output_type": "stream",
     "text": [
      " 40%|████      | 4/10 [00:58<01:28, 14.71s/it]"
     ]
    },
    {
     "name": "stdout",
     "output_type": "stream",
     "text": [
      "\n",
      "Training for Sparsity Level: 0.9\n",
      "\n",
      "Training Loss: 0.7652, Training Acc: 74.0733\n"
     ]
    },
    {
     "name": "stderr",
     "output_type": "stream",
     "text": [
      " 50%|█████     | 5/10 [01:13<01:13, 14.64s/it]"
     ]
    },
    {
     "name": "stdout",
     "output_type": "stream",
     "text": [
      "\n",
      "Training for Sparsity Level: 0.9\n",
      "\n",
      "Training Loss: 0.7348, Training Acc: 75.0717\n"
     ]
    },
    {
     "name": "stderr",
     "output_type": "stream",
     "text": [
      " 60%|██████    | 6/10 [01:28<00:58, 14.67s/it]"
     ]
    },
    {
     "name": "stdout",
     "output_type": "stream",
     "text": [
      "\n",
      "Training for Sparsity Level: 0.9\n",
      "\n",
      "Training Loss: 0.7365, Training Acc: 75.1300\n"
     ]
    },
    {
     "name": "stderr",
     "output_type": "stream",
     "text": [
      " 70%|███████   | 7/10 [01:43<00:44, 14.75s/it]"
     ]
    },
    {
     "name": "stdout",
     "output_type": "stream",
     "text": [
      "\n",
      "Training for Sparsity Level: 0.9\n",
      "\n",
      "Training Loss: 0.7133, Training Acc: 75.7083\n"
     ]
    },
    {
     "name": "stderr",
     "output_type": "stream",
     "text": [
      " 80%|████████  | 8/10 [01:57<00:29, 14.73s/it]"
     ]
    },
    {
     "name": "stdout",
     "output_type": "stream",
     "text": [
      "\n",
      "Training for Sparsity Level: 0.9\n",
      "\n",
      "Training Loss: 0.7118, Training Acc: 75.7933\n"
     ]
    },
    {
     "name": "stderr",
     "output_type": "stream",
     "text": [
      " 90%|█████████ | 9/10 [02:12<00:14, 14.81s/it]"
     ]
    },
    {
     "name": "stdout",
     "output_type": "stream",
     "text": [
      "\n",
      "Training for Sparsity Level: 0.9\n",
      "\n",
      "Training Loss: 0.7192, Training Acc: 75.7317\n"
     ]
    },
    {
     "name": "stderr",
     "output_type": "stream",
     "text": [
      "100%|██████████| 10/10 [02:27<00:00, 14.70s/it]"
     ]
    },
    {
     "name": "stdout",
     "output_type": "stream",
     "text": [
      "\n",
      "Finished training for Sparsity Level: 0.9\n",
      "\n",
      "Test Loss: 0.7041, Test Acc: 75.5500\n"
     ]
    },
    {
     "name": "stderr",
     "output_type": "stream",
     "text": [
      "\n"
     ]
    }
   ],
   "source": [
    "\n",
    "spar_levels = [0, 0.1, 0.2, 0.3, 0.4, 0.5, 0.6, 0.7, 0.8, 0.9]\n",
    "batch_size_train = 64\n",
    "batch_size_test = 1000\n",
    "n_epochs = 10  \n",
    "learning_rate = 0.005\n",
    "weight_decay = 1e-3\n",
    "device = torch.device(\"cuda\" if torch.cuda.is_available() else \"cpu\")\n",
    "\n",
    "for i in range(len(spar_levels)):\n",
    "    the_transform = transforms.Compose([\n",
    "        transforms.ToTensor(),\n",
    "        transforms.Normalize((0.1307,), (0.3081,))\n",
    "    ])\n",
    "\n",
    "    sparsity_level = spar_levels[i]\n",
    "\n",
    "    training_set = SparseDatasetMNIST(file_path='C:/Users/79003/Desktop/mnist/data/mnist_train.csv',\n",
    "                                      transform=the_transform, sparsity_level=sparsity_level)\n",
    "    train_loader = torch.utils.data.DataLoader(training_set, batch_size=batch_size_train, shuffle=True)\n",
    "\n",
    "    test_set = SparseDatasetMNIST(file_path='C:/Users/79003/Desktop/mnist/data/mnist_test.csv',\n",
    "                                  transform=the_transform, sparsity_level=sparsity_level)\n",
    "    test_loader = torch.utils.data.DataLoader(test_set, batch_size=batch_size_test, shuffle=False)\n",
    "\n",
    "    model = ConvNet()\n",
    "\n",
    "    criterion = nn.CrossEntropyLoss()\n",
    "    optimizer = optim.Adam(model.parameters(), lr=learning_rate, weight_decay=weight_decay)\n",
    "\n",
    "    model = model.to(device)\n",
    "\n",
    "    train_losses = []\n",
    "    train_accuracy = []\n",
    "    train_counter = []\n",
    "    test_losses = []\n",
    "    test_accuracy = []\n",
    "\n",
    "    for epoch in tqdm(range(n_epochs)):\n",
    "        # Train on data\n",
    "        train_loss, train_acc = train(train_loader, model, optimizer, criterion, device)\n",
    "        train_losses.append(train_loss)\n",
    "        train_accuracy.append(train_acc)\n",
    "        print('\\nTraining for Sparsity Level: {}'.format(sparsity_level))\n",
    "        print('\\nTraining Loss: {:.4f}, Training Acc: {:.4f}'.format(train_loss, train_acc))\n",
    "\n",
    "        # Test on data\n",
    "        test_loss, test_acc = test(test_loader, model, criterion, device)\n",
    "        test_losses.append(test_loss)\n",
    "        test_accuracy.append(test_acc)\n",
    "\n",
    "    print('\\nFinished training for Sparsity Level: {}'.format(sparsity_level))\n",
    "    print('\\nTest Loss: {:.4f}, Test Acc: {:.4f}'.format(test_loss, test_acc))\n"
   ]
  },
  {
   "cell_type": "code",
   "execution_count": 39,
   "metadata": {},
   "outputs": [
    {
     "name": "stderr",
     "output_type": "stream",
     "text": [
      "  0%|          | 0/20 [00:00<?, ?it/s]"
     ]
    },
    {
     "name": "stdout",
     "output_type": "stream",
     "text": [
      "\n",
      "Training for Sparsity Level: 0\n",
      "\n",
      "Training Loss: 0.2427, Training Acc: 92.5750\n"
     ]
    },
    {
     "name": "stderr",
     "output_type": "stream",
     "text": [
      "  5%|▌         | 1/20 [00:14<04:44, 14.99s/it]"
     ]
    },
    {
     "name": "stdout",
     "output_type": "stream",
     "text": [
      "\n",
      "Training for Sparsity Level: 0\n",
      "\n",
      "Training Loss: 0.1419, Training Acc: 95.6667\n"
     ]
    },
    {
     "name": "stderr",
     "output_type": "stream",
     "text": [
      " 10%|█         | 2/20 [00:28<04:24, 14.68s/it]"
     ]
    },
    {
     "name": "stdout",
     "output_type": "stream",
     "text": [
      "\n",
      "Training for Sparsity Level: 0\n",
      "\n",
      "Training Loss: 0.1287, Training Acc: 96.0317\n"
     ]
    },
    {
     "name": "stderr",
     "output_type": "stream",
     "text": [
      " 15%|█▌        | 3/20 [00:43<04:06, 14.52s/it]"
     ]
    },
    {
     "name": "stdout",
     "output_type": "stream",
     "text": [
      "\n",
      "Training for Sparsity Level: 0\n",
      "\n",
      "Training Loss: 0.1196, Training Acc: 96.3400\n"
     ]
    },
    {
     "name": "stderr",
     "output_type": "stream",
     "text": [
      " 20%|██        | 4/20 [00:57<03:49, 14.34s/it]"
     ]
    },
    {
     "name": "stdout",
     "output_type": "stream",
     "text": [
      "\n",
      "Training for Sparsity Level: 0\n",
      "\n",
      "Training Loss: 0.1182, Training Acc: 96.2950\n"
     ]
    },
    {
     "name": "stderr",
     "output_type": "stream",
     "text": [
      " 25%|██▌       | 5/20 [01:11<03:33, 14.25s/it]"
     ]
    },
    {
     "name": "stdout",
     "output_type": "stream",
     "text": [
      "\n",
      "Training for Sparsity Level: 0\n",
      "\n",
      "Training Loss: 0.1148, Training Acc: 96.4650\n"
     ]
    },
    {
     "name": "stderr",
     "output_type": "stream",
     "text": [
      " 30%|███       | 6/20 [01:25<03:19, 14.23s/it]"
     ]
    },
    {
     "name": "stdout",
     "output_type": "stream",
     "text": [
      "\n",
      "Training for Sparsity Level: 0\n",
      "\n",
      "Training Loss: 0.1117, Training Acc: 96.5967\n"
     ]
    },
    {
     "name": "stderr",
     "output_type": "stream",
     "text": [
      " 35%|███▌      | 7/20 [01:39<03:03, 14.15s/it]"
     ]
    },
    {
     "name": "stdout",
     "output_type": "stream",
     "text": [
      "\n",
      "Training for Sparsity Level: 0\n",
      "\n",
      "Training Loss: 0.1113, Training Acc: 96.5317\n"
     ]
    },
    {
     "name": "stderr",
     "output_type": "stream",
     "text": [
      " 40%|████      | 8/20 [01:53<02:49, 14.09s/it]"
     ]
    },
    {
     "name": "stdout",
     "output_type": "stream",
     "text": [
      "\n",
      "Training for Sparsity Level: 0\n",
      "\n",
      "Training Loss: 0.1066, Training Acc: 96.7350\n"
     ]
    },
    {
     "name": "stderr",
     "output_type": "stream",
     "text": [
      " 45%|████▌     | 9/20 [02:07<02:35, 14.12s/it]"
     ]
    },
    {
     "name": "stdout",
     "output_type": "stream",
     "text": [
      "\n",
      "Training for Sparsity Level: 0\n",
      "\n",
      "Training Loss: 0.1075, Training Acc: 96.6667\n"
     ]
    },
    {
     "name": "stderr",
     "output_type": "stream",
     "text": [
      " 50%|█████     | 10/20 [02:21<02:21, 14.20s/it]"
     ]
    },
    {
     "name": "stdout",
     "output_type": "stream",
     "text": [
      "\n",
      "Training for Sparsity Level: 0\n",
      "\n",
      "Training Loss: 0.1042, Training Acc: 96.8750\n"
     ]
    },
    {
     "name": "stderr",
     "output_type": "stream",
     "text": [
      " 55%|█████▌    | 11/20 [02:36<02:08, 14.24s/it]"
     ]
    },
    {
     "name": "stdout",
     "output_type": "stream",
     "text": [
      "\n",
      "Training for Sparsity Level: 0\n",
      "\n",
      "Training Loss: 0.1095, Training Acc: 96.6283\n"
     ]
    },
    {
     "name": "stderr",
     "output_type": "stream",
     "text": [
      " 60%|██████    | 12/20 [02:50<01:54, 14.29s/it]"
     ]
    },
    {
     "name": "stdout",
     "output_type": "stream",
     "text": [
      "\n",
      "Training for Sparsity Level: 0\n",
      "\n",
      "Training Loss: 0.1022, Training Acc: 96.8767\n"
     ]
    },
    {
     "name": "stderr",
     "output_type": "stream",
     "text": [
      " 65%|██████▌   | 13/20 [03:04<01:40, 14.29s/it]"
     ]
    },
    {
     "name": "stdout",
     "output_type": "stream",
     "text": [
      "\n",
      "Training for Sparsity Level: 0\n",
      "\n",
      "Training Loss: 0.1039, Training Acc: 96.7983\n"
     ]
    },
    {
     "name": "stderr",
     "output_type": "stream",
     "text": [
      " 70%|███████   | 14/20 [03:18<01:25, 14.23s/it]"
     ]
    },
    {
     "name": "stdout",
     "output_type": "stream",
     "text": [
      "\n",
      "Training for Sparsity Level: 0\n",
      "\n",
      "Training Loss: 0.1053, Training Acc: 96.6583\n"
     ]
    },
    {
     "name": "stderr",
     "output_type": "stream",
     "text": [
      " 75%|███████▌  | 15/20 [03:32<01:10, 14.18s/it]"
     ]
    },
    {
     "name": "stdout",
     "output_type": "stream",
     "text": [
      "\n",
      "Training for Sparsity Level: 0\n",
      "\n",
      "Training Loss: 0.1013, Training Acc: 96.8517\n"
     ]
    },
    {
     "name": "stderr",
     "output_type": "stream",
     "text": [
      " 80%|████████  | 16/20 [03:47<00:56, 14.15s/it]"
     ]
    },
    {
     "name": "stdout",
     "output_type": "stream",
     "text": [
      "\n",
      "Training for Sparsity Level: 0\n",
      "\n",
      "Training Loss: 0.1029, Training Acc: 96.8767\n"
     ]
    },
    {
     "name": "stderr",
     "output_type": "stream",
     "text": [
      " 85%|████████▌ | 17/20 [04:00<00:42, 14.09s/it]"
     ]
    },
    {
     "name": "stdout",
     "output_type": "stream",
     "text": [
      "\n",
      "Training for Sparsity Level: 0\n",
      "\n",
      "Training Loss: 0.1002, Training Acc: 96.8517\n"
     ]
    },
    {
     "name": "stderr",
     "output_type": "stream",
     "text": [
      " 90%|█████████ | 18/20 [04:15<00:28, 14.09s/it]"
     ]
    },
    {
     "name": "stdout",
     "output_type": "stream",
     "text": [
      "\n",
      "Training for Sparsity Level: 0\n",
      "\n",
      "Training Loss: 0.1028, Training Acc: 96.8283\n"
     ]
    },
    {
     "name": "stderr",
     "output_type": "stream",
     "text": [
      " 95%|█████████▌| 19/20 [04:29<00:14, 14.08s/it]"
     ]
    },
    {
     "name": "stdout",
     "output_type": "stream",
     "text": [
      "\n",
      "Training for Sparsity Level: 0\n",
      "\n",
      "Training Loss: 0.1016, Training Acc: 96.8783\n"
     ]
    },
    {
     "name": "stderr",
     "output_type": "stream",
     "text": [
      "100%|██████████| 20/20 [04:43<00:00, 14.15s/it]\n"
     ]
    },
    {
     "name": "stdout",
     "output_type": "stream",
     "text": [
      "\n",
      "Finished training for Sparsity Level: 0\n",
      "\n",
      "Test Loss: 0.0960, Test Acc: 96.8900\n"
     ]
    },
    {
     "name": "stderr",
     "output_type": "stream",
     "text": [
      "  0%|          | 0/20 [00:00<?, ?it/s]"
     ]
    },
    {
     "name": "stdout",
     "output_type": "stream",
     "text": [
      "\n",
      "Training for Sparsity Level: 0.1\n",
      "\n",
      "Training Loss: 0.6329, Training Acc: 77.2533\n"
     ]
    },
    {
     "name": "stderr",
     "output_type": "stream",
     "text": [
      "  5%|▌         | 1/20 [00:14<04:36, 14.54s/it]"
     ]
    },
    {
     "name": "stdout",
     "output_type": "stream",
     "text": [
      "\n",
      "Training for Sparsity Level: 0.1\n",
      "\n",
      "Training Loss: 0.1664, Training Acc: 95.0450\n"
     ]
    },
    {
     "name": "stderr",
     "output_type": "stream",
     "text": [
      " 10%|█         | 2/20 [00:28<04:20, 14.49s/it]"
     ]
    },
    {
     "name": "stdout",
     "output_type": "stream",
     "text": [
      "\n",
      "Training for Sparsity Level: 0.1\n",
      "\n",
      "Training Loss: 0.1486, Training Acc: 95.4917\n"
     ]
    },
    {
     "name": "stderr",
     "output_type": "stream",
     "text": [
      " 15%|█▌        | 3/20 [00:43<04:05, 14.42s/it]"
     ]
    },
    {
     "name": "stdout",
     "output_type": "stream",
     "text": [
      "\n",
      "Training for Sparsity Level: 0.1\n",
      "\n",
      "Training Loss: 0.1416, Training Acc: 95.7050\n"
     ]
    },
    {
     "name": "stderr",
     "output_type": "stream",
     "text": [
      " 20%|██        | 4/20 [00:57<03:49, 14.36s/it]"
     ]
    },
    {
     "name": "stdout",
     "output_type": "stream",
     "text": [
      "\n",
      "Training for Sparsity Level: 0.1\n",
      "\n",
      "Training Loss: 0.1333, Training Acc: 95.9417\n"
     ]
    },
    {
     "name": "stderr",
     "output_type": "stream",
     "text": [
      " 25%|██▌       | 5/20 [01:11<03:35, 14.34s/it]"
     ]
    },
    {
     "name": "stdout",
     "output_type": "stream",
     "text": [
      "\n",
      "Training for Sparsity Level: 0.1\n",
      "\n",
      "Training Loss: 0.1306, Training Acc: 96.0233\n"
     ]
    },
    {
     "name": "stderr",
     "output_type": "stream",
     "text": [
      " 30%|███       | 6/20 [01:25<03:20, 14.30s/it]"
     ]
    },
    {
     "name": "stdout",
     "output_type": "stream",
     "text": [
      "\n",
      "Training for Sparsity Level: 0.1\n",
      "\n",
      "Training Loss: 0.1297, Training Acc: 96.0633\n"
     ]
    },
    {
     "name": "stderr",
     "output_type": "stream",
     "text": [
      " 35%|███▌      | 7/20 [01:39<03:04, 14.22s/it]"
     ]
    },
    {
     "name": "stdout",
     "output_type": "stream",
     "text": [
      "\n",
      "Training for Sparsity Level: 0.1\n",
      "\n",
      "Training Loss: 0.1254, Training Acc: 96.1767\n"
     ]
    },
    {
     "name": "stderr",
     "output_type": "stream",
     "text": [
      " 40%|████      | 8/20 [01:54<02:50, 14.18s/it]"
     ]
    },
    {
     "name": "stdout",
     "output_type": "stream",
     "text": [
      "\n",
      "Training for Sparsity Level: 0.1\n",
      "\n",
      "Training Loss: 0.1262, Training Acc: 96.0217\n"
     ]
    },
    {
     "name": "stderr",
     "output_type": "stream",
     "text": [
      " 45%|████▌     | 9/20 [02:08<02:35, 14.16s/it]"
     ]
    },
    {
     "name": "stdout",
     "output_type": "stream",
     "text": [
      "\n",
      "Training for Sparsity Level: 0.1\n",
      "\n",
      "Training Loss: 0.1273, Training Acc: 96.1517\n"
     ]
    },
    {
     "name": "stderr",
     "output_type": "stream",
     "text": [
      " 50%|█████     | 10/20 [02:22<02:21, 14.19s/it]"
     ]
    },
    {
     "name": "stdout",
     "output_type": "stream",
     "text": [
      "\n",
      "Training for Sparsity Level: 0.1\n",
      "\n",
      "Training Loss: 0.1235, Training Acc: 96.1917\n"
     ]
    },
    {
     "name": "stderr",
     "output_type": "stream",
     "text": [
      " 55%|█████▌    | 11/20 [02:36<02:08, 14.23s/it]"
     ]
    },
    {
     "name": "stdout",
     "output_type": "stream",
     "text": [
      "\n",
      "Training for Sparsity Level: 0.1\n",
      "\n",
      "Training Loss: 0.1234, Training Acc: 96.2550\n"
     ]
    },
    {
     "name": "stderr",
     "output_type": "stream",
     "text": [
      " 60%|██████    | 12/20 [02:50<01:53, 14.22s/it]"
     ]
    },
    {
     "name": "stdout",
     "output_type": "stream",
     "text": [
      "\n",
      "Training for Sparsity Level: 0.1\n",
      "\n",
      "Training Loss: 0.1220, Training Acc: 96.1683\n"
     ]
    },
    {
     "name": "stderr",
     "output_type": "stream",
     "text": [
      " 65%|██████▌   | 13/20 [03:05<01:39, 14.19s/it]"
     ]
    },
    {
     "name": "stdout",
     "output_type": "stream",
     "text": [
      "\n",
      "Training for Sparsity Level: 0.1\n",
      "\n",
      "Training Loss: 0.1223, Training Acc: 96.2617\n"
     ]
    },
    {
     "name": "stderr",
     "output_type": "stream",
     "text": [
      " 70%|███████   | 14/20 [03:19<01:25, 14.21s/it]"
     ]
    },
    {
     "name": "stdout",
     "output_type": "stream",
     "text": [
      "\n",
      "Training for Sparsity Level: 0.1\n",
      "\n",
      "Training Loss: 0.1214, Training Acc: 96.3283\n"
     ]
    },
    {
     "name": "stderr",
     "output_type": "stream",
     "text": [
      " 75%|███████▌  | 15/20 [03:33<01:11, 14.25s/it]"
     ]
    },
    {
     "name": "stdout",
     "output_type": "stream",
     "text": [
      "\n",
      "Training for Sparsity Level: 0.1\n",
      "\n",
      "Training Loss: 0.1216, Training Acc: 96.3167\n"
     ]
    },
    {
     "name": "stderr",
     "output_type": "stream",
     "text": [
      " 80%|████████  | 16/20 [03:48<00:57, 14.33s/it]"
     ]
    },
    {
     "name": "stdout",
     "output_type": "stream",
     "text": [
      "\n",
      "Training for Sparsity Level: 0.1\n",
      "\n",
      "Training Loss: 0.1189, Training Acc: 96.3167\n"
     ]
    },
    {
     "name": "stderr",
     "output_type": "stream",
     "text": [
      " 85%|████████▌ | 17/20 [04:02<00:42, 14.31s/it]"
     ]
    },
    {
     "name": "stdout",
     "output_type": "stream",
     "text": [
      "\n",
      "Training for Sparsity Level: 0.1\n",
      "\n",
      "Training Loss: 0.1215, Training Acc: 96.2483\n"
     ]
    },
    {
     "name": "stderr",
     "output_type": "stream",
     "text": [
      " 90%|█████████ | 18/20 [04:16<00:28, 14.28s/it]"
     ]
    },
    {
     "name": "stdout",
     "output_type": "stream",
     "text": [
      "\n",
      "Training for Sparsity Level: 0.1\n",
      "\n",
      "Training Loss: 0.1177, Training Acc: 96.3567\n"
     ]
    },
    {
     "name": "stderr",
     "output_type": "stream",
     "text": [
      " 95%|█████████▌| 19/20 [04:31<00:14, 14.32s/it]"
     ]
    },
    {
     "name": "stdout",
     "output_type": "stream",
     "text": [
      "\n",
      "Training for Sparsity Level: 0.1\n",
      "\n",
      "Training Loss: 0.1210, Training Acc: 96.2017\n"
     ]
    },
    {
     "name": "stderr",
     "output_type": "stream",
     "text": [
      "100%|██████████| 20/20 [04:45<00:00, 14.26s/it]\n"
     ]
    },
    {
     "name": "stdout",
     "output_type": "stream",
     "text": [
      "\n",
      "Finished training for Sparsity Level: 0.1\n",
      "\n",
      "Test Loss: 0.1144, Test Acc: 96.3600\n"
     ]
    },
    {
     "name": "stderr",
     "output_type": "stream",
     "text": [
      "  0%|          | 0/20 [00:00<?, ?it/s]"
     ]
    },
    {
     "name": "stdout",
     "output_type": "stream",
     "text": [
      "\n",
      "Training for Sparsity Level: 0.2\n",
      "\n",
      "Training Loss: 2.3018, Training Acc: 11.1983\n"
     ]
    },
    {
     "name": "stderr",
     "output_type": "stream",
     "text": [
      "  5%|▌         | 1/20 [00:14<04:30, 14.24s/it]"
     ]
    },
    {
     "name": "stdout",
     "output_type": "stream",
     "text": [
      "\n",
      "Training for Sparsity Level: 0.2\n",
      "\n",
      "Training Loss: 2.3016, Training Acc: 11.0950\n"
     ]
    },
    {
     "name": "stderr",
     "output_type": "stream",
     "text": [
      " 10%|█         | 2/20 [00:28<04:18, 14.34s/it]"
     ]
    },
    {
     "name": "stdout",
     "output_type": "stream",
     "text": [
      "\n",
      "Training for Sparsity Level: 0.2\n",
      "\n",
      "Training Loss: 2.3017, Training Acc: 11.1650\n"
     ]
    },
    {
     "name": "stderr",
     "output_type": "stream",
     "text": [
      " 15%|█▌        | 3/20 [00:43<04:03, 14.33s/it]"
     ]
    },
    {
     "name": "stdout",
     "output_type": "stream",
     "text": [
      "\n",
      "Training for Sparsity Level: 0.2\n",
      "\n",
      "Training Loss: 2.3016, Training Acc: 11.1283\n"
     ]
    },
    {
     "name": "stderr",
     "output_type": "stream",
     "text": [
      " 20%|██        | 4/20 [00:57<03:48, 14.30s/it]"
     ]
    },
    {
     "name": "stdout",
     "output_type": "stream",
     "text": [
      "\n",
      "Training for Sparsity Level: 0.2\n",
      "\n",
      "Training Loss: 2.3018, Training Acc: 11.2367\n"
     ]
    },
    {
     "name": "stderr",
     "output_type": "stream",
     "text": [
      " 25%|██▌       | 5/20 [01:11<03:35, 14.35s/it]"
     ]
    },
    {
     "name": "stdout",
     "output_type": "stream",
     "text": [
      "\n",
      "Training for Sparsity Level: 0.2\n",
      "\n",
      "Training Loss: 2.3017, Training Acc: 11.2200\n"
     ]
    },
    {
     "name": "stderr",
     "output_type": "stream",
     "text": [
      " 30%|███       | 6/20 [01:26<03:20, 14.36s/it]"
     ]
    },
    {
     "name": "stdout",
     "output_type": "stream",
     "text": [
      "\n",
      "Training for Sparsity Level: 0.2\n",
      "\n",
      "Training Loss: 2.3018, Training Acc: 11.1967\n"
     ]
    },
    {
     "name": "stderr",
     "output_type": "stream",
     "text": [
      " 35%|███▌      | 7/20 [01:40<03:05, 14.30s/it]"
     ]
    },
    {
     "name": "stdout",
     "output_type": "stream",
     "text": [
      "\n",
      "Training for Sparsity Level: 0.2\n",
      "\n",
      "Training Loss: 2.3018, Training Acc: 11.1550\n"
     ]
    },
    {
     "name": "stderr",
     "output_type": "stream",
     "text": [
      " 40%|████      | 8/20 [01:54<02:51, 14.31s/it]"
     ]
    },
    {
     "name": "stdout",
     "output_type": "stream",
     "text": [
      "\n",
      "Training for Sparsity Level: 0.2\n",
      "\n",
      "Training Loss: 2.3017, Training Acc: 11.1500\n"
     ]
    },
    {
     "name": "stderr",
     "output_type": "stream",
     "text": [
      " 45%|████▌     | 9/20 [02:08<02:37, 14.28s/it]"
     ]
    },
    {
     "name": "stdout",
     "output_type": "stream",
     "text": [
      "\n",
      "Training for Sparsity Level: 0.2\n",
      "\n",
      "Training Loss: 2.3018, Training Acc: 11.1117\n"
     ]
    },
    {
     "name": "stderr",
     "output_type": "stream",
     "text": [
      " 50%|█████     | 10/20 [02:22<02:22, 14.21s/it]"
     ]
    },
    {
     "name": "stdout",
     "output_type": "stream",
     "text": [
      "\n",
      "Training for Sparsity Level: 0.2\n",
      "\n",
      "Training Loss: 2.3016, Training Acc: 11.2100\n"
     ]
    },
    {
     "name": "stderr",
     "output_type": "stream",
     "text": [
      " 55%|█████▌    | 11/20 [02:37<02:07, 14.17s/it]"
     ]
    },
    {
     "name": "stdout",
     "output_type": "stream",
     "text": [
      "\n",
      "Training for Sparsity Level: 0.2\n",
      "\n",
      "Training Loss: 2.3018, Training Acc: 11.0917\n"
     ]
    },
    {
     "name": "stderr",
     "output_type": "stream",
     "text": [
      " 60%|██████    | 12/20 [02:51<01:53, 14.18s/it]"
     ]
    },
    {
     "name": "stdout",
     "output_type": "stream",
     "text": [
      "\n",
      "Training for Sparsity Level: 0.2\n",
      "\n",
      "Training Loss: 2.3018, Training Acc: 11.2283\n"
     ]
    },
    {
     "name": "stderr",
     "output_type": "stream",
     "text": [
      " 65%|██████▌   | 13/20 [03:05<01:39, 14.16s/it]"
     ]
    },
    {
     "name": "stdout",
     "output_type": "stream",
     "text": [
      "\n",
      "Training for Sparsity Level: 0.2\n",
      "\n",
      "Training Loss: 2.3016, Training Acc: 11.1433\n"
     ]
    },
    {
     "name": "stderr",
     "output_type": "stream",
     "text": [
      " 70%|███████   | 14/20 [03:19<01:24, 14.13s/it]"
     ]
    },
    {
     "name": "stdout",
     "output_type": "stream",
     "text": [
      "\n",
      "Training for Sparsity Level: 0.2\n",
      "\n",
      "Training Loss: 2.3017, Training Acc: 11.0917\n"
     ]
    },
    {
     "name": "stderr",
     "output_type": "stream",
     "text": [
      " 75%|███████▌  | 15/20 [03:33<01:11, 14.20s/it]"
     ]
    },
    {
     "name": "stdout",
     "output_type": "stream",
     "text": [
      "\n",
      "Training for Sparsity Level: 0.2\n",
      "\n",
      "Training Loss: 2.3017, Training Acc: 11.1600\n"
     ]
    },
    {
     "name": "stderr",
     "output_type": "stream",
     "text": [
      " 80%|████████  | 16/20 [03:48<00:57, 14.27s/it]"
     ]
    },
    {
     "name": "stdout",
     "output_type": "stream",
     "text": [
      "\n",
      "Training for Sparsity Level: 0.2\n",
      "\n",
      "Training Loss: 2.3017, Training Acc: 11.1667\n"
     ]
    },
    {
     "name": "stderr",
     "output_type": "stream",
     "text": [
      " 85%|████████▌ | 17/20 [04:02<00:42, 14.29s/it]"
     ]
    },
    {
     "name": "stdout",
     "output_type": "stream",
     "text": [
      "\n",
      "Training for Sparsity Level: 0.2\n",
      "\n",
      "Training Loss: 2.3017, Training Acc: 11.2150\n"
     ]
    },
    {
     "name": "stderr",
     "output_type": "stream",
     "text": [
      " 90%|█████████ | 18/20 [04:16<00:28, 14.22s/it]"
     ]
    },
    {
     "name": "stdout",
     "output_type": "stream",
     "text": [
      "\n",
      "Training for Sparsity Level: 0.2\n",
      "\n",
      "Training Loss: 2.3019, Training Acc: 11.1800\n"
     ]
    },
    {
     "name": "stderr",
     "output_type": "stream",
     "text": [
      " 95%|█████████▌| 19/20 [04:30<00:14, 14.23s/it]"
     ]
    },
    {
     "name": "stdout",
     "output_type": "stream",
     "text": [
      "\n",
      "Training for Sparsity Level: 0.2\n",
      "\n",
      "Training Loss: 2.3017, Training Acc: 11.2417\n"
     ]
    },
    {
     "name": "stderr",
     "output_type": "stream",
     "text": [
      "100%|██████████| 20/20 [04:45<00:00, 14.26s/it]\n"
     ]
    },
    {
     "name": "stdout",
     "output_type": "stream",
     "text": [
      "\n",
      "Finished training for Sparsity Level: 0.2\n",
      "\n",
      "Test Loss: 2.3014, Test Acc: 11.3500\n"
     ]
    },
    {
     "name": "stderr",
     "output_type": "stream",
     "text": [
      "  0%|          | 0/20 [00:00<?, ?it/s]"
     ]
    },
    {
     "name": "stdout",
     "output_type": "stream",
     "text": [
      "\n",
      "Training for Sparsity Level: 0.3\n",
      "\n",
      "Training Loss: 0.3685, Training Acc: 88.1400\n"
     ]
    },
    {
     "name": "stderr",
     "output_type": "stream",
     "text": [
      "  5%|▌         | 1/20 [00:14<04:33, 14.39s/it]"
     ]
    },
    {
     "name": "stdout",
     "output_type": "stream",
     "text": [
      "\n",
      "Training for Sparsity Level: 0.3\n",
      "\n",
      "Training Loss: 0.1961, Training Acc: 93.8367\n"
     ]
    },
    {
     "name": "stderr",
     "output_type": "stream",
     "text": [
      " 10%|█         | 2/20 [00:29<04:20, 14.47s/it]"
     ]
    },
    {
     "name": "stdout",
     "output_type": "stream",
     "text": [
      "\n",
      "Training for Sparsity Level: 0.3\n",
      "\n",
      "Training Loss: 0.1723, Training Acc: 94.5950\n"
     ]
    },
    {
     "name": "stderr",
     "output_type": "stream",
     "text": [
      " 15%|█▌        | 3/20 [00:43<04:05, 14.44s/it]"
     ]
    },
    {
     "name": "stdout",
     "output_type": "stream",
     "text": [
      "\n",
      "Training for Sparsity Level: 0.3\n",
      "\n",
      "Training Loss: 0.1620, Training Acc: 94.9267\n"
     ]
    },
    {
     "name": "stderr",
     "output_type": "stream",
     "text": [
      " 20%|██        | 4/20 [00:57<03:50, 14.40s/it]"
     ]
    },
    {
     "name": "stdout",
     "output_type": "stream",
     "text": [
      "\n",
      "Training for Sparsity Level: 0.3\n",
      "\n",
      "Training Loss: 0.1529, Training Acc: 95.3667\n"
     ]
    },
    {
     "name": "stderr",
     "output_type": "stream",
     "text": [
      " 25%|██▌       | 5/20 [01:12<03:36, 14.40s/it]"
     ]
    },
    {
     "name": "stdout",
     "output_type": "stream",
     "text": [
      "\n",
      "Training for Sparsity Level: 0.3\n",
      "\n",
      "Training Loss: 0.1443, Training Acc: 95.4583\n"
     ]
    },
    {
     "name": "stderr",
     "output_type": "stream",
     "text": [
      " 30%|███       | 6/20 [01:26<03:21, 14.41s/it]"
     ]
    },
    {
     "name": "stdout",
     "output_type": "stream",
     "text": [
      "\n",
      "Training for Sparsity Level: 0.3\n",
      "\n",
      "Training Loss: 0.1430, Training Acc: 95.5750\n"
     ]
    },
    {
     "name": "stderr",
     "output_type": "stream",
     "text": [
      " 35%|███▌      | 7/20 [01:41<03:07, 14.46s/it]"
     ]
    },
    {
     "name": "stdout",
     "output_type": "stream",
     "text": [
      "\n",
      "Training for Sparsity Level: 0.3\n",
      "\n",
      "Training Loss: 0.1380, Training Acc: 95.6717\n"
     ]
    },
    {
     "name": "stderr",
     "output_type": "stream",
     "text": [
      " 40%|████      | 8/20 [01:55<02:53, 14.42s/it]"
     ]
    },
    {
     "name": "stdout",
     "output_type": "stream",
     "text": [
      "\n",
      "Training for Sparsity Level: 0.3\n",
      "\n",
      "Training Loss: 0.1397, Training Acc: 95.6350\n"
     ]
    },
    {
     "name": "stderr",
     "output_type": "stream",
     "text": [
      " 45%|████▌     | 9/20 [02:09<02:38, 14.44s/it]"
     ]
    },
    {
     "name": "stdout",
     "output_type": "stream",
     "text": [
      "\n",
      "Training for Sparsity Level: 0.3\n",
      "\n",
      "Training Loss: 0.1356, Training Acc: 95.7667\n"
     ]
    },
    {
     "name": "stderr",
     "output_type": "stream",
     "text": [
      " 50%|█████     | 10/20 [02:24<02:24, 14.48s/it]"
     ]
    },
    {
     "name": "stdout",
     "output_type": "stream",
     "text": [
      "\n",
      "Training for Sparsity Level: 0.3\n",
      "\n",
      "Training Loss: 0.1338, Training Acc: 95.9283\n"
     ]
    },
    {
     "name": "stderr",
     "output_type": "stream",
     "text": [
      " 55%|█████▌    | 11/20 [02:39<02:10, 14.48s/it]"
     ]
    },
    {
     "name": "stdout",
     "output_type": "stream",
     "text": [
      "\n",
      "Training for Sparsity Level: 0.3\n",
      "\n",
      "Training Loss: 0.1359, Training Acc: 95.7883\n"
     ]
    },
    {
     "name": "stderr",
     "output_type": "stream",
     "text": [
      " 60%|██████    | 12/20 [02:53<01:55, 14.46s/it]"
     ]
    },
    {
     "name": "stdout",
     "output_type": "stream",
     "text": [
      "\n",
      "Training for Sparsity Level: 0.3\n",
      "\n",
      "Training Loss: 0.1328, Training Acc: 96.0033\n"
     ]
    },
    {
     "name": "stderr",
     "output_type": "stream",
     "text": [
      " 65%|██████▌   | 13/20 [03:07<01:40, 14.42s/it]"
     ]
    },
    {
     "name": "stdout",
     "output_type": "stream",
     "text": [
      "\n",
      "Training for Sparsity Level: 0.3\n",
      "\n",
      "Training Loss: 0.1325, Training Acc: 95.8450\n"
     ]
    },
    {
     "name": "stderr",
     "output_type": "stream",
     "text": [
      " 70%|███████   | 14/20 [03:21<01:26, 14.34s/it]"
     ]
    },
    {
     "name": "stdout",
     "output_type": "stream",
     "text": [
      "\n",
      "Training for Sparsity Level: 0.3\n",
      "\n",
      "Training Loss: 0.1342, Training Acc: 95.7467\n"
     ]
    },
    {
     "name": "stderr",
     "output_type": "stream",
     "text": [
      " 75%|███████▌  | 15/20 [03:36<01:11, 14.33s/it]"
     ]
    },
    {
     "name": "stdout",
     "output_type": "stream",
     "text": [
      "\n",
      "Training for Sparsity Level: 0.3\n",
      "\n",
      "Training Loss: 0.1333, Training Acc: 95.8317\n"
     ]
    },
    {
     "name": "stderr",
     "output_type": "stream",
     "text": [
      " 80%|████████  | 16/20 [03:50<00:57, 14.31s/it]"
     ]
    },
    {
     "name": "stdout",
     "output_type": "stream",
     "text": [
      "\n",
      "Training for Sparsity Level: 0.3\n",
      "\n",
      "Training Loss: 0.1305, Training Acc: 95.9500\n"
     ]
    },
    {
     "name": "stderr",
     "output_type": "stream",
     "text": [
      " 85%|████████▌ | 17/20 [04:04<00:42, 14.31s/it]"
     ]
    },
    {
     "name": "stdout",
     "output_type": "stream",
     "text": [
      "\n",
      "Training for Sparsity Level: 0.3\n",
      "\n",
      "Training Loss: 0.1354, Training Acc: 95.7783\n"
     ]
    },
    {
     "name": "stderr",
     "output_type": "stream",
     "text": [
      " 90%|█████████ | 18/20 [04:18<00:28, 14.27s/it]"
     ]
    },
    {
     "name": "stdout",
     "output_type": "stream",
     "text": [
      "\n",
      "Training for Sparsity Level: 0.3\n",
      "\n",
      "Training Loss: 0.1337, Training Acc: 95.8367\n"
     ]
    },
    {
     "name": "stderr",
     "output_type": "stream",
     "text": [
      " 95%|█████████▌| 19/20 [04:33<00:14, 14.22s/it]"
     ]
    },
    {
     "name": "stdout",
     "output_type": "stream",
     "text": [
      "\n",
      "Training for Sparsity Level: 0.3\n",
      "\n",
      "Training Loss: 0.1345, Training Acc: 95.8067\n"
     ]
    },
    {
     "name": "stderr",
     "output_type": "stream",
     "text": [
      "100%|██████████| 20/20 [04:47<00:00, 14.36s/it]\n"
     ]
    },
    {
     "name": "stdout",
     "output_type": "stream",
     "text": [
      "\n",
      "Finished training for Sparsity Level: 0.3\n",
      "\n",
      "Test Loss: 0.1181, Test Acc: 96.3400\n"
     ]
    },
    {
     "name": "stderr",
     "output_type": "stream",
     "text": [
      "  0%|          | 0/20 [00:00<?, ?it/s]"
     ]
    },
    {
     "name": "stdout",
     "output_type": "stream",
     "text": [
      "\n",
      "Training for Sparsity Level: 0.4\n",
      "\n",
      "Training Loss: 0.8047, Training Acc: 70.7300\n"
     ]
    },
    {
     "name": "stderr",
     "output_type": "stream",
     "text": [
      "  5%|▌         | 1/20 [00:14<04:34, 14.43s/it]"
     ]
    },
    {
     "name": "stdout",
     "output_type": "stream",
     "text": [
      "\n",
      "Training for Sparsity Level: 0.4\n",
      "\n",
      "Training Loss: 0.2474, Training Acc: 92.2583\n"
     ]
    },
    {
     "name": "stderr",
     "output_type": "stream",
     "text": [
      " 10%|█         | 2/20 [00:28<04:20, 14.46s/it]"
     ]
    },
    {
     "name": "stdout",
     "output_type": "stream",
     "text": [
      "\n",
      "Training for Sparsity Level: 0.4\n",
      "\n",
      "Training Loss: 0.2152, Training Acc: 93.4283\n"
     ]
    },
    {
     "name": "stderr",
     "output_type": "stream",
     "text": [
      " 15%|█▌        | 3/20 [00:43<04:04, 14.39s/it]"
     ]
    },
    {
     "name": "stdout",
     "output_type": "stream",
     "text": [
      "\n",
      "Training for Sparsity Level: 0.4\n",
      "\n",
      "Training Loss: 0.1936, Training Acc: 94.0450\n"
     ]
    },
    {
     "name": "stderr",
     "output_type": "stream",
     "text": [
      " 20%|██        | 4/20 [00:57<03:50, 14.40s/it]"
     ]
    },
    {
     "name": "stdout",
     "output_type": "stream",
     "text": [
      "\n",
      "Training for Sparsity Level: 0.4\n",
      "\n",
      "Training Loss: 0.1892, Training Acc: 94.1650\n"
     ]
    },
    {
     "name": "stderr",
     "output_type": "stream",
     "text": [
      " 25%|██▌       | 5/20 [01:12<03:38, 14.54s/it]"
     ]
    },
    {
     "name": "stdout",
     "output_type": "stream",
     "text": [
      "\n",
      "Training for Sparsity Level: 0.4\n",
      "\n",
      "Training Loss: 0.1783, Training Acc: 94.6450\n"
     ]
    },
    {
     "name": "stderr",
     "output_type": "stream",
     "text": [
      " 30%|███       | 6/20 [01:27<03:24, 14.58s/it]"
     ]
    },
    {
     "name": "stdout",
     "output_type": "stream",
     "text": [
      "\n",
      "Training for Sparsity Level: 0.4\n",
      "\n",
      "Training Loss: 0.1775, Training Acc: 94.4233\n"
     ]
    },
    {
     "name": "stderr",
     "output_type": "stream",
     "text": [
      " 35%|███▌      | 7/20 [01:41<03:10, 14.62s/it]"
     ]
    },
    {
     "name": "stdout",
     "output_type": "stream",
     "text": [
      "\n",
      "Training for Sparsity Level: 0.4\n",
      "\n",
      "Training Loss: 0.1761, Training Acc: 94.4983\n"
     ]
    },
    {
     "name": "stderr",
     "output_type": "stream",
     "text": [
      " 40%|████      | 8/20 [01:56<02:54, 14.55s/it]"
     ]
    },
    {
     "name": "stdout",
     "output_type": "stream",
     "text": [
      "\n",
      "Training for Sparsity Level: 0.4\n",
      "\n",
      "Training Loss: 0.1707, Training Acc: 94.6783\n"
     ]
    },
    {
     "name": "stderr",
     "output_type": "stream",
     "text": [
      " 45%|████▌     | 9/20 [02:10<02:39, 14.53s/it]"
     ]
    },
    {
     "name": "stdout",
     "output_type": "stream",
     "text": [
      "\n",
      "Training for Sparsity Level: 0.4\n",
      "\n",
      "Training Loss: 0.1717, Training Acc: 94.6183\n"
     ]
    },
    {
     "name": "stderr",
     "output_type": "stream",
     "text": [
      " 50%|█████     | 10/20 [02:25<02:25, 14.54s/it]"
     ]
    },
    {
     "name": "stdout",
     "output_type": "stream",
     "text": [
      "\n",
      "Training for Sparsity Level: 0.4\n",
      "\n",
      "Training Loss: 0.1704, Training Acc: 94.6517\n"
     ]
    },
    {
     "name": "stderr",
     "output_type": "stream",
     "text": [
      " 55%|█████▌    | 11/20 [02:39<02:10, 14.53s/it]"
     ]
    },
    {
     "name": "stdout",
     "output_type": "stream",
     "text": [
      "\n",
      "Training for Sparsity Level: 0.4\n",
      "\n",
      "Training Loss: 0.1720, Training Acc: 94.6750\n"
     ]
    },
    {
     "name": "stderr",
     "output_type": "stream",
     "text": [
      " 60%|██████    | 12/20 [02:54<01:56, 14.53s/it]"
     ]
    },
    {
     "name": "stdout",
     "output_type": "stream",
     "text": [
      "\n",
      "Training for Sparsity Level: 0.4\n",
      "\n",
      "Training Loss: 0.1644, Training Acc: 94.8750\n"
     ]
    },
    {
     "name": "stderr",
     "output_type": "stream",
     "text": [
      " 65%|██████▌   | 13/20 [03:08<01:41, 14.48s/it]"
     ]
    },
    {
     "name": "stdout",
     "output_type": "stream",
     "text": [
      "\n",
      "Training for Sparsity Level: 0.4\n",
      "\n",
      "Training Loss: 0.1649, Training Acc: 94.9183\n"
     ]
    },
    {
     "name": "stderr",
     "output_type": "stream",
     "text": [
      " 70%|███████   | 14/20 [03:23<01:26, 14.45s/it]"
     ]
    },
    {
     "name": "stdout",
     "output_type": "stream",
     "text": [
      "\n",
      "Training for Sparsity Level: 0.4\n",
      "\n",
      "Training Loss: 0.1672, Training Acc: 94.7900\n"
     ]
    },
    {
     "name": "stderr",
     "output_type": "stream",
     "text": [
      " 75%|███████▌  | 15/20 [03:37<01:12, 14.47s/it]"
     ]
    },
    {
     "name": "stdout",
     "output_type": "stream",
     "text": [
      "\n",
      "Training for Sparsity Level: 0.4\n",
      "\n",
      "Training Loss: 0.1655, Training Acc: 94.9183\n"
     ]
    },
    {
     "name": "stderr",
     "output_type": "stream",
     "text": [
      " 80%|████████  | 16/20 [03:52<00:57, 14.49s/it]"
     ]
    },
    {
     "name": "stdout",
     "output_type": "stream",
     "text": [
      "\n",
      "Training for Sparsity Level: 0.4\n",
      "\n",
      "Training Loss: 0.1677, Training Acc: 94.8317\n"
     ]
    },
    {
     "name": "stderr",
     "output_type": "stream",
     "text": [
      " 85%|████████▌ | 17/20 [04:06<00:43, 14.58s/it]"
     ]
    },
    {
     "name": "stdout",
     "output_type": "stream",
     "text": [
      "\n",
      "Training for Sparsity Level: 0.4\n",
      "\n",
      "Training Loss: 0.1600, Training Acc: 95.1217\n"
     ]
    },
    {
     "name": "stderr",
     "output_type": "stream",
     "text": [
      " 90%|█████████ | 18/20 [04:21<00:29, 14.55s/it]"
     ]
    },
    {
     "name": "stdout",
     "output_type": "stream",
     "text": [
      "\n",
      "Training for Sparsity Level: 0.4\n",
      "\n",
      "Training Loss: 0.1637, Training Acc: 95.0133\n"
     ]
    },
    {
     "name": "stderr",
     "output_type": "stream",
     "text": [
      " 95%|█████████▌| 19/20 [04:35<00:14, 14.49s/it]"
     ]
    },
    {
     "name": "stdout",
     "output_type": "stream",
     "text": [
      "\n",
      "Training for Sparsity Level: 0.4\n",
      "\n",
      "Training Loss: 0.1645, Training Acc: 94.9633\n"
     ]
    },
    {
     "name": "stderr",
     "output_type": "stream",
     "text": [
      "100%|██████████| 20/20 [04:50<00:00, 14.51s/it]\n"
     ]
    },
    {
     "name": "stdout",
     "output_type": "stream",
     "text": [
      "\n",
      "Finished training for Sparsity Level: 0.4\n",
      "\n",
      "Test Loss: 0.1430, Test Acc: 95.4100\n"
     ]
    },
    {
     "name": "stderr",
     "output_type": "stream",
     "text": [
      "  0%|          | 0/20 [00:00<?, ?it/s]"
     ]
    },
    {
     "name": "stdout",
     "output_type": "stream",
     "text": [
      "\n",
      "Training for Sparsity Level: 0.5\n",
      "\n",
      "Training Loss: 0.3252, Training Acc: 89.6117\n"
     ]
    },
    {
     "name": "stderr",
     "output_type": "stream",
     "text": [
      "  5%|▌         | 1/20 [00:14<04:30, 14.26s/it]"
     ]
    },
    {
     "name": "stdout",
     "output_type": "stream",
     "text": [
      "\n",
      "Training for Sparsity Level: 0.5\n",
      "\n",
      "Training Loss: 0.1933, Training Acc: 93.9400\n"
     ]
    },
    {
     "name": "stderr",
     "output_type": "stream",
     "text": [
      " 10%|█         | 2/20 [00:28<04:17, 14.33s/it]"
     ]
    },
    {
     "name": "stdout",
     "output_type": "stream",
     "text": [
      "\n",
      "Training for Sparsity Level: 0.5\n",
      "\n",
      "Training Loss: 0.1840, Training Acc: 94.1817\n"
     ]
    },
    {
     "name": "stderr",
     "output_type": "stream",
     "text": [
      " 15%|█▌        | 3/20 [00:43<04:04, 14.36s/it]"
     ]
    },
    {
     "name": "stdout",
     "output_type": "stream",
     "text": [
      "\n",
      "Training for Sparsity Level: 0.5\n",
      "\n",
      "Training Loss: 0.1707, Training Acc: 94.7800\n"
     ]
    },
    {
     "name": "stderr",
     "output_type": "stream",
     "text": [
      " 20%|██        | 4/20 [00:57<03:51, 14.47s/it]"
     ]
    },
    {
     "name": "stdout",
     "output_type": "stream",
     "text": [
      "\n",
      "Training for Sparsity Level: 0.5\n",
      "\n",
      "Training Loss: 0.1692, Training Acc: 94.7333\n"
     ]
    },
    {
     "name": "stderr",
     "output_type": "stream",
     "text": [
      " 25%|██▌       | 5/20 [01:12<03:39, 14.63s/it]"
     ]
    },
    {
     "name": "stdout",
     "output_type": "stream",
     "text": [
      "\n",
      "Training for Sparsity Level: 0.5\n",
      "\n",
      "Training Loss: 0.1680, Training Acc: 94.7967\n"
     ]
    },
    {
     "name": "stderr",
     "output_type": "stream",
     "text": [
      " 30%|███       | 6/20 [01:27<03:24, 14.61s/it]"
     ]
    },
    {
     "name": "stdout",
     "output_type": "stream",
     "text": [
      "\n",
      "Training for Sparsity Level: 0.5\n",
      "\n",
      "Training Loss: 0.1673, Training Acc: 94.7733\n"
     ]
    },
    {
     "name": "stderr",
     "output_type": "stream",
     "text": [
      " 35%|███▌      | 7/20 [01:41<03:09, 14.55s/it]"
     ]
    },
    {
     "name": "stdout",
     "output_type": "stream",
     "text": [
      "\n",
      "Training for Sparsity Level: 0.5\n",
      "\n",
      "Training Loss: 0.1676, Training Acc: 94.7000\n"
     ]
    },
    {
     "name": "stderr",
     "output_type": "stream",
     "text": [
      " 40%|████      | 8/20 [01:56<02:54, 14.51s/it]"
     ]
    },
    {
     "name": "stdout",
     "output_type": "stream",
     "text": [
      "\n",
      "Training for Sparsity Level: 0.5\n",
      "\n",
      "Training Loss: 0.1634, Training Acc: 94.9533\n"
     ]
    },
    {
     "name": "stderr",
     "output_type": "stream",
     "text": [
      " 45%|████▌     | 9/20 [02:10<02:39, 14.51s/it]"
     ]
    },
    {
     "name": "stdout",
     "output_type": "stream",
     "text": [
      "\n",
      "Training for Sparsity Level: 0.5\n",
      "\n",
      "Training Loss: 0.1646, Training Acc: 94.8583\n"
     ]
    },
    {
     "name": "stderr",
     "output_type": "stream",
     "text": [
      " 50%|█████     | 10/20 [02:25<02:25, 14.52s/it]"
     ]
    },
    {
     "name": "stdout",
     "output_type": "stream",
     "text": [
      "\n",
      "Training for Sparsity Level: 0.5\n",
      "\n",
      "Training Loss: 0.1635, Training Acc: 94.9350\n"
     ]
    },
    {
     "name": "stderr",
     "output_type": "stream",
     "text": [
      " 55%|█████▌    | 11/20 [02:39<02:10, 14.48s/it]"
     ]
    },
    {
     "name": "stdout",
     "output_type": "stream",
     "text": [
      "\n",
      "Training for Sparsity Level: 0.5\n",
      "\n",
      "Training Loss: 0.1609, Training Acc: 94.8983\n"
     ]
    },
    {
     "name": "stderr",
     "output_type": "stream",
     "text": [
      " 60%|██████    | 12/20 [02:54<01:55, 14.49s/it]"
     ]
    },
    {
     "name": "stdout",
     "output_type": "stream",
     "text": [
      "\n",
      "Training for Sparsity Level: 0.5\n",
      "\n",
      "Training Loss: 0.1666, Training Acc: 94.6650\n"
     ]
    },
    {
     "name": "stderr",
     "output_type": "stream",
     "text": [
      " 65%|██████▌   | 13/20 [03:08<01:41, 14.53s/it]"
     ]
    },
    {
     "name": "stdout",
     "output_type": "stream",
     "text": [
      "\n",
      "Training for Sparsity Level: 0.5\n",
      "\n",
      "Training Loss: 0.1597, Training Acc: 95.0067\n"
     ]
    },
    {
     "name": "stderr",
     "output_type": "stream",
     "text": [
      " 70%|███████   | 14/20 [03:23<01:27, 14.56s/it]"
     ]
    },
    {
     "name": "stdout",
     "output_type": "stream",
     "text": [
      "\n",
      "Training for Sparsity Level: 0.5\n",
      "\n",
      "Training Loss: 0.1613, Training Acc: 94.9083\n"
     ]
    },
    {
     "name": "stderr",
     "output_type": "stream",
     "text": [
      " 75%|███████▌  | 15/20 [03:38<01:12, 14.58s/it]"
     ]
    },
    {
     "name": "stdout",
     "output_type": "stream",
     "text": [
      "\n",
      "Training for Sparsity Level: 0.5\n",
      "\n",
      "Training Loss: 0.1617, Training Acc: 94.8900\n"
     ]
    },
    {
     "name": "stderr",
     "output_type": "stream",
     "text": [
      " 80%|████████  | 16/20 [03:52<00:58, 14.56s/it]"
     ]
    },
    {
     "name": "stdout",
     "output_type": "stream",
     "text": [
      "\n",
      "Training for Sparsity Level: 0.5\n",
      "\n",
      "Training Loss: 0.1661, Training Acc: 94.8283\n"
     ]
    },
    {
     "name": "stderr",
     "output_type": "stream",
     "text": [
      " 85%|████████▌ | 17/20 [04:07<00:43, 14.50s/it]"
     ]
    },
    {
     "name": "stdout",
     "output_type": "stream",
     "text": [
      "\n",
      "Training for Sparsity Level: 0.5\n",
      "\n",
      "Training Loss: 0.1597, Training Acc: 94.9417\n"
     ]
    },
    {
     "name": "stderr",
     "output_type": "stream",
     "text": [
      " 90%|█████████ | 18/20 [04:21<00:28, 14.47s/it]"
     ]
    },
    {
     "name": "stdout",
     "output_type": "stream",
     "text": [
      "\n",
      "Training for Sparsity Level: 0.5\n",
      "\n",
      "Training Loss: 0.1603, Training Acc: 94.9517\n"
     ]
    },
    {
     "name": "stderr",
     "output_type": "stream",
     "text": [
      " 95%|█████████▌| 19/20 [04:35<00:14, 14.43s/it]"
     ]
    },
    {
     "name": "stdout",
     "output_type": "stream",
     "text": [
      "\n",
      "Training for Sparsity Level: 0.5\n",
      "\n",
      "Training Loss: 0.1572, Training Acc: 95.0850\n"
     ]
    },
    {
     "name": "stderr",
     "output_type": "stream",
     "text": [
      "100%|██████████| 20/20 [04:50<00:00, 14.51s/it]\n"
     ]
    },
    {
     "name": "stdout",
     "output_type": "stream",
     "text": [
      "\n",
      "Finished training for Sparsity Level: 0.5\n",
      "\n",
      "Test Loss: 0.1534, Test Acc: 95.0700\n"
     ]
    },
    {
     "name": "stderr",
     "output_type": "stream",
     "text": [
      "  0%|          | 0/20 [00:00<?, ?it/s]"
     ]
    },
    {
     "name": "stdout",
     "output_type": "stream",
     "text": [
      "\n",
      "Training for Sparsity Level: 0.6\n",
      "\n",
      "Training Loss: 0.3252, Training Acc: 89.6167\n"
     ]
    },
    {
     "name": "stderr",
     "output_type": "stream",
     "text": [
      "  5%|▌         | 1/20 [00:14<04:32, 14.34s/it]"
     ]
    },
    {
     "name": "stdout",
     "output_type": "stream",
     "text": [
      "\n",
      "Training for Sparsity Level: 0.6\n",
      "\n",
      "Training Loss: 0.2210, Training Acc: 93.0767\n"
     ]
    },
    {
     "name": "stderr",
     "output_type": "stream",
     "text": [
      " 10%|█         | 2/20 [00:28<04:19, 14.42s/it]"
     ]
    },
    {
     "name": "stdout",
     "output_type": "stream",
     "text": [
      "\n",
      "Training for Sparsity Level: 0.6\n",
      "\n",
      "Training Loss: 0.2095, Training Acc: 93.5033\n"
     ]
    },
    {
     "name": "stderr",
     "output_type": "stream",
     "text": [
      " 15%|█▌        | 3/20 [00:43<04:05, 14.43s/it]"
     ]
    },
    {
     "name": "stdout",
     "output_type": "stream",
     "text": [
      "\n",
      "Training for Sparsity Level: 0.6\n",
      "\n",
      "Training Loss: 0.2019, Training Acc: 93.6683\n"
     ]
    },
    {
     "name": "stderr",
     "output_type": "stream",
     "text": [
      " 20%|██        | 4/20 [00:57<03:50, 14.41s/it]"
     ]
    },
    {
     "name": "stdout",
     "output_type": "stream",
     "text": [
      "\n",
      "Training for Sparsity Level: 0.6\n",
      "\n",
      "Training Loss: 0.1959, Training Acc: 93.8867\n"
     ]
    },
    {
     "name": "stderr",
     "output_type": "stream",
     "text": [
      " 25%|██▌       | 5/20 [01:12<03:36, 14.42s/it]"
     ]
    },
    {
     "name": "stdout",
     "output_type": "stream",
     "text": [
      "\n",
      "Training for Sparsity Level: 0.6\n",
      "\n",
      "Training Loss: 0.2023, Training Acc: 93.5950\n"
     ]
    },
    {
     "name": "stderr",
     "output_type": "stream",
     "text": [
      " 30%|███       | 6/20 [01:26<03:21, 14.39s/it]"
     ]
    },
    {
     "name": "stdout",
     "output_type": "stream",
     "text": [
      "\n",
      "Training for Sparsity Level: 0.6\n",
      "\n",
      "Training Loss: 0.1898, Training Acc: 94.0250\n"
     ]
    },
    {
     "name": "stderr",
     "output_type": "stream",
     "text": [
      " 35%|███▌      | 7/20 [01:40<03:06, 14.36s/it]"
     ]
    },
    {
     "name": "stdout",
     "output_type": "stream",
     "text": [
      "\n",
      "Training for Sparsity Level: 0.6\n",
      "\n",
      "Training Loss: 0.2158, Training Acc: 93.1283\n"
     ]
    },
    {
     "name": "stderr",
     "output_type": "stream",
     "text": [
      " 40%|████      | 8/20 [01:55<02:51, 14.31s/it]"
     ]
    },
    {
     "name": "stdout",
     "output_type": "stream",
     "text": [
      "\n",
      "Training for Sparsity Level: 0.6\n",
      "\n",
      "Training Loss: 0.2161, Training Acc: 93.0950\n"
     ]
    },
    {
     "name": "stderr",
     "output_type": "stream",
     "text": [
      " 45%|████▌     | 9/20 [02:09<02:37, 14.36s/it]"
     ]
    },
    {
     "name": "stdout",
     "output_type": "stream",
     "text": [
      "\n",
      "Training for Sparsity Level: 0.6\n",
      "\n",
      "Training Loss: 0.1948, Training Acc: 93.8217\n"
     ]
    },
    {
     "name": "stderr",
     "output_type": "stream",
     "text": [
      " 50%|█████     | 10/20 [02:24<02:24, 14.45s/it]"
     ]
    },
    {
     "name": "stdout",
     "output_type": "stream",
     "text": [
      "\n",
      "Training for Sparsity Level: 0.6\n",
      "\n",
      "Training Loss: 0.1906, Training Acc: 93.9417\n"
     ]
    },
    {
     "name": "stderr",
     "output_type": "stream",
     "text": [
      " 55%|█████▌    | 11/20 [02:38<02:10, 14.48s/it]"
     ]
    },
    {
     "name": "stdout",
     "output_type": "stream",
     "text": [
      "\n",
      "Training for Sparsity Level: 0.6\n",
      "\n",
      "Training Loss: 0.1881, Training Acc: 94.0683\n"
     ]
    },
    {
     "name": "stderr",
     "output_type": "stream",
     "text": [
      " 60%|██████    | 12/20 [02:53<01:55, 14.47s/it]"
     ]
    },
    {
     "name": "stdout",
     "output_type": "stream",
     "text": [
      "\n",
      "Training for Sparsity Level: 0.6\n",
      "\n",
      "Training Loss: 0.2062, Training Acc: 93.4083\n"
     ]
    },
    {
     "name": "stderr",
     "output_type": "stream",
     "text": [
      " 65%|██████▌   | 13/20 [03:07<01:40, 14.42s/it]"
     ]
    },
    {
     "name": "stdout",
     "output_type": "stream",
     "text": [
      "\n",
      "Training for Sparsity Level: 0.6\n",
      "\n",
      "Training Loss: 0.2144, Training Acc: 93.2750\n"
     ]
    },
    {
     "name": "stderr",
     "output_type": "stream",
     "text": [
      " 70%|███████   | 14/20 [03:22<01:27, 14.65s/it]"
     ]
    },
    {
     "name": "stdout",
     "output_type": "stream",
     "text": [
      "\n",
      "Training for Sparsity Level: 0.6\n",
      "\n",
      "Training Loss: 0.1985, Training Acc: 93.7567\n"
     ]
    },
    {
     "name": "stderr",
     "output_type": "stream",
     "text": [
      " 75%|███████▌  | 15/20 [03:37<01:13, 14.70s/it]"
     ]
    },
    {
     "name": "stdout",
     "output_type": "stream",
     "text": [
      "\n",
      "Training for Sparsity Level: 0.6\n",
      "\n",
      "Training Loss: 0.1886, Training Acc: 94.1217\n"
     ]
    },
    {
     "name": "stderr",
     "output_type": "stream",
     "text": [
      " 80%|████████  | 16/20 [03:51<00:58, 14.65s/it]"
     ]
    },
    {
     "name": "stdout",
     "output_type": "stream",
     "text": [
      "\n",
      "Training for Sparsity Level: 0.6\n",
      "\n",
      "Training Loss: 0.1920, Training Acc: 93.8400\n"
     ]
    },
    {
     "name": "stderr",
     "output_type": "stream",
     "text": [
      " 85%|████████▌ | 17/20 [04:06<00:43, 14.59s/it]"
     ]
    },
    {
     "name": "stdout",
     "output_type": "stream",
     "text": [
      "\n",
      "Training for Sparsity Level: 0.6\n",
      "\n",
      "Training Loss: 0.1851, Training Acc: 94.0350\n"
     ]
    },
    {
     "name": "stderr",
     "output_type": "stream",
     "text": [
      " 90%|█████████ | 18/20 [04:20<00:29, 14.57s/it]"
     ]
    },
    {
     "name": "stdout",
     "output_type": "stream",
     "text": [
      "\n",
      "Training for Sparsity Level: 0.6\n",
      "\n",
      "Training Loss: 0.2119, Training Acc: 93.2550\n"
     ]
    },
    {
     "name": "stderr",
     "output_type": "stream",
     "text": [
      " 95%|█████████▌| 19/20 [04:35<00:14, 14.57s/it]"
     ]
    },
    {
     "name": "stdout",
     "output_type": "stream",
     "text": [
      "\n",
      "Training for Sparsity Level: 0.6\n",
      "\n",
      "Training Loss: 0.2082, Training Acc: 93.3900\n"
     ]
    },
    {
     "name": "stderr",
     "output_type": "stream",
     "text": [
      "100%|██████████| 20/20 [04:50<00:00, 14.50s/it]\n"
     ]
    },
    {
     "name": "stdout",
     "output_type": "stream",
     "text": [
      "\n",
      "Finished training for Sparsity Level: 0.6\n",
      "\n",
      "Test Loss: 0.1754, Test Acc: 94.1700\n"
     ]
    },
    {
     "name": "stderr",
     "output_type": "stream",
     "text": [
      "  0%|          | 0/20 [00:00<?, ?it/s]"
     ]
    },
    {
     "name": "stdout",
     "output_type": "stream",
     "text": [
      "\n",
      "Training for Sparsity Level: 0.7\n",
      "\n",
      "Training Loss: 0.6566, Training Acc: 77.7033\n"
     ]
    },
    {
     "name": "stderr",
     "output_type": "stream",
     "text": [
      "  5%|▌         | 1/20 [00:14<04:36, 14.58s/it]"
     ]
    },
    {
     "name": "stdout",
     "output_type": "stream",
     "text": [
      "\n",
      "Training for Sparsity Level: 0.7\n",
      "\n",
      "Training Loss: 0.3540, Training Acc: 88.4733\n"
     ]
    },
    {
     "name": "stderr",
     "output_type": "stream",
     "text": [
      " 10%|█         | 2/20 [00:29<04:22, 14.57s/it]"
     ]
    },
    {
     "name": "stdout",
     "output_type": "stream",
     "text": [
      "\n",
      "Training for Sparsity Level: 0.7\n",
      "\n",
      "Training Loss: 0.3247, Training Acc: 89.5417\n"
     ]
    },
    {
     "name": "stderr",
     "output_type": "stream",
     "text": [
      " 15%|█▌        | 3/20 [00:43<04:07, 14.53s/it]"
     ]
    },
    {
     "name": "stdout",
     "output_type": "stream",
     "text": [
      "\n",
      "Training for Sparsity Level: 0.7\n",
      "\n",
      "Training Loss: 0.3089, Training Acc: 90.0033\n"
     ]
    },
    {
     "name": "stderr",
     "output_type": "stream",
     "text": [
      " 20%|██        | 4/20 [00:57<03:51, 14.47s/it]"
     ]
    },
    {
     "name": "stdout",
     "output_type": "stream",
     "text": [
      "\n",
      "Training for Sparsity Level: 0.7\n",
      "\n",
      "Training Loss: 0.2899, Training Acc: 90.6650\n"
     ]
    },
    {
     "name": "stderr",
     "output_type": "stream",
     "text": [
      " 25%|██▌       | 5/20 [01:12<03:37, 14.49s/it]"
     ]
    },
    {
     "name": "stdout",
     "output_type": "stream",
     "text": [
      "\n",
      "Training for Sparsity Level: 0.7\n",
      "\n",
      "Training Loss: 0.2870, Training Acc: 90.6833\n"
     ]
    },
    {
     "name": "stderr",
     "output_type": "stream",
     "text": [
      " 30%|███       | 6/20 [01:26<03:22, 14.48s/it]"
     ]
    },
    {
     "name": "stdout",
     "output_type": "stream",
     "text": [
      "\n",
      "Training for Sparsity Level: 0.7\n",
      "\n",
      "Training Loss: 0.2785, Training Acc: 91.0567\n"
     ]
    },
    {
     "name": "stderr",
     "output_type": "stream",
     "text": [
      " 35%|███▌      | 7/20 [01:41<03:08, 14.49s/it]"
     ]
    },
    {
     "name": "stdout",
     "output_type": "stream",
     "text": [
      "\n",
      "Training for Sparsity Level: 0.7\n",
      "\n",
      "Training Loss: 0.2799, Training Acc: 91.0233\n"
     ]
    },
    {
     "name": "stderr",
     "output_type": "stream",
     "text": [
      " 40%|████      | 8/20 [01:55<02:53, 14.46s/it]"
     ]
    },
    {
     "name": "stdout",
     "output_type": "stream",
     "text": [
      "\n",
      "Training for Sparsity Level: 0.7\n",
      "\n",
      "Training Loss: 0.2809, Training Acc: 91.0400\n"
     ]
    },
    {
     "name": "stderr",
     "output_type": "stream",
     "text": [
      " 45%|████▌     | 9/20 [02:10<02:38, 14.45s/it]"
     ]
    },
    {
     "name": "stdout",
     "output_type": "stream",
     "text": [
      "\n",
      "Training for Sparsity Level: 0.7\n",
      "\n",
      "Training Loss: 0.2778, Training Acc: 91.0783\n"
     ]
    },
    {
     "name": "stderr",
     "output_type": "stream",
     "text": [
      " 50%|█████     | 10/20 [02:24<02:24, 14.42s/it]"
     ]
    },
    {
     "name": "stdout",
     "output_type": "stream",
     "text": [
      "\n",
      "Training for Sparsity Level: 0.7\n",
      "\n",
      "Training Loss: 0.2761, Training Acc: 91.1500\n"
     ]
    },
    {
     "name": "stderr",
     "output_type": "stream",
     "text": [
      " 55%|█████▌    | 11/20 [02:38<02:09, 14.40s/it]"
     ]
    },
    {
     "name": "stdout",
     "output_type": "stream",
     "text": [
      "\n",
      "Training for Sparsity Level: 0.7\n",
      "\n",
      "Training Loss: 0.2738, Training Acc: 91.1917\n"
     ]
    },
    {
     "name": "stderr",
     "output_type": "stream",
     "text": [
      " 60%|██████    | 12/20 [02:53<01:55, 14.40s/it]"
     ]
    },
    {
     "name": "stdout",
     "output_type": "stream",
     "text": [
      "\n",
      "Training for Sparsity Level: 0.7\n",
      "\n",
      "Training Loss: 0.2782, Training Acc: 91.0350\n"
     ]
    },
    {
     "name": "stderr",
     "output_type": "stream",
     "text": [
      " 65%|██████▌   | 13/20 [03:07<01:40, 14.41s/it]"
     ]
    },
    {
     "name": "stdout",
     "output_type": "stream",
     "text": [
      "\n",
      "Training for Sparsity Level: 0.7\n",
      "\n",
      "Training Loss: 0.2727, Training Acc: 91.1633\n"
     ]
    },
    {
     "name": "stderr",
     "output_type": "stream",
     "text": [
      " 70%|███████   | 14/20 [03:22<01:26, 14.41s/it]"
     ]
    },
    {
     "name": "stdout",
     "output_type": "stream",
     "text": [
      "\n",
      "Training for Sparsity Level: 0.7\n",
      "\n",
      "Training Loss: 0.2717, Training Acc: 91.4033\n"
     ]
    },
    {
     "name": "stderr",
     "output_type": "stream",
     "text": [
      " 75%|███████▌  | 15/20 [03:36<01:12, 14.51s/it]"
     ]
    },
    {
     "name": "stdout",
     "output_type": "stream",
     "text": [
      "\n",
      "Training for Sparsity Level: 0.7\n",
      "\n",
      "Training Loss: 0.2755, Training Acc: 91.1267\n"
     ]
    },
    {
     "name": "stderr",
     "output_type": "stream",
     "text": [
      " 80%|████████  | 16/20 [03:51<00:58, 14.54s/it]"
     ]
    },
    {
     "name": "stdout",
     "output_type": "stream",
     "text": [
      "\n",
      "Training for Sparsity Level: 0.7\n",
      "\n",
      "Training Loss: 0.2701, Training Acc: 91.2700\n"
     ]
    },
    {
     "name": "stderr",
     "output_type": "stream",
     "text": [
      " 85%|████████▌ | 17/20 [04:05<00:43, 14.49s/it]"
     ]
    },
    {
     "name": "stdout",
     "output_type": "stream",
     "text": [
      "\n",
      "Training for Sparsity Level: 0.7\n",
      "\n",
      "Training Loss: 0.2744, Training Acc: 91.1217\n"
     ]
    },
    {
     "name": "stderr",
     "output_type": "stream",
     "text": [
      " 90%|█████████ | 18/20 [04:20<00:28, 14.48s/it]"
     ]
    },
    {
     "name": "stdout",
     "output_type": "stream",
     "text": [
      "\n",
      "Training for Sparsity Level: 0.7\n",
      "\n",
      "Training Loss: 0.2667, Training Acc: 91.5017\n"
     ]
    },
    {
     "name": "stderr",
     "output_type": "stream",
     "text": [
      " 95%|█████████▌| 19/20 [04:35<00:14, 14.58s/it]"
     ]
    },
    {
     "name": "stdout",
     "output_type": "stream",
     "text": [
      "\n",
      "Training for Sparsity Level: 0.7\n",
      "\n",
      "Training Loss: 0.2729, Training Acc: 91.2567\n"
     ]
    },
    {
     "name": "stderr",
     "output_type": "stream",
     "text": [
      "100%|██████████| 20/20 [04:49<00:00, 14.50s/it]\n"
     ]
    },
    {
     "name": "stdout",
     "output_type": "stream",
     "text": [
      "\n",
      "Finished training for Sparsity Level: 0.7\n",
      "\n",
      "Test Loss: 0.2934, Test Acc: 90.4300\n"
     ]
    },
    {
     "name": "stderr",
     "output_type": "stream",
     "text": [
      "  0%|          | 0/20 [00:00<?, ?it/s]"
     ]
    },
    {
     "name": "stdout",
     "output_type": "stream",
     "text": [
      "\n",
      "Training for Sparsity Level: 0.8\n",
      "\n",
      "Training Loss: 2.3019, Training Acc: 11.1400\n"
     ]
    },
    {
     "name": "stderr",
     "output_type": "stream",
     "text": [
      "  5%|▌         | 1/20 [00:14<04:32, 14.33s/it]"
     ]
    },
    {
     "name": "stdout",
     "output_type": "stream",
     "text": [
      "\n",
      "Training for Sparsity Level: 0.8\n",
      "\n",
      "Training Loss: 2.3018, Training Acc: 11.1850\n"
     ]
    },
    {
     "name": "stderr",
     "output_type": "stream",
     "text": [
      " 10%|█         | 2/20 [00:28<04:19, 14.40s/it]"
     ]
    },
    {
     "name": "stdout",
     "output_type": "stream",
     "text": [
      "\n",
      "Training for Sparsity Level: 0.8\n",
      "\n",
      "Training Loss: 2.3018, Training Acc: 11.1800\n"
     ]
    },
    {
     "name": "stderr",
     "output_type": "stream",
     "text": [
      " 15%|█▌        | 3/20 [00:43<04:05, 14.42s/it]"
     ]
    },
    {
     "name": "stdout",
     "output_type": "stream",
     "text": [
      "\n",
      "Training for Sparsity Level: 0.8\n",
      "\n",
      "Training Loss: 2.3017, Training Acc: 11.2317\n"
     ]
    },
    {
     "name": "stderr",
     "output_type": "stream",
     "text": [
      " 20%|██        | 4/20 [00:57<03:50, 14.42s/it]"
     ]
    },
    {
     "name": "stdout",
     "output_type": "stream",
     "text": [
      "\n",
      "Training for Sparsity Level: 0.8\n",
      "\n",
      "Training Loss: 2.3016, Training Acc: 11.1900\n"
     ]
    },
    {
     "name": "stderr",
     "output_type": "stream",
     "text": [
      " 25%|██▌       | 5/20 [01:12<03:36, 14.46s/it]"
     ]
    },
    {
     "name": "stdout",
     "output_type": "stream",
     "text": [
      "\n",
      "Training for Sparsity Level: 0.8\n",
      "\n",
      "Training Loss: 2.3017, Training Acc: 11.1967\n"
     ]
    },
    {
     "name": "stderr",
     "output_type": "stream",
     "text": [
      " 30%|███       | 6/20 [01:26<03:22, 14.48s/it]"
     ]
    },
    {
     "name": "stdout",
     "output_type": "stream",
     "text": [
      "\n",
      "Training for Sparsity Level: 0.8\n",
      "\n",
      "Training Loss: 2.3017, Training Acc: 11.1383\n"
     ]
    },
    {
     "name": "stderr",
     "output_type": "stream",
     "text": [
      " 35%|███▌      | 7/20 [01:41<03:07, 14.41s/it]"
     ]
    },
    {
     "name": "stdout",
     "output_type": "stream",
     "text": [
      "\n",
      "Training for Sparsity Level: 0.8\n",
      "\n",
      "Training Loss: 2.3018, Training Acc: 11.1817\n"
     ]
    },
    {
     "name": "stderr",
     "output_type": "stream",
     "text": [
      " 40%|████      | 8/20 [01:55<02:52, 14.37s/it]"
     ]
    },
    {
     "name": "stdout",
     "output_type": "stream",
     "text": [
      "\n",
      "Training for Sparsity Level: 0.8\n",
      "\n",
      "Training Loss: 2.3018, Training Acc: 11.1183\n"
     ]
    },
    {
     "name": "stderr",
     "output_type": "stream",
     "text": [
      " 45%|████▌     | 9/20 [02:09<02:38, 14.37s/it]"
     ]
    },
    {
     "name": "stdout",
     "output_type": "stream",
     "text": [
      "\n",
      "Training for Sparsity Level: 0.8\n",
      "\n",
      "Training Loss: 2.3018, Training Acc: 11.1550\n"
     ]
    },
    {
     "name": "stderr",
     "output_type": "stream",
     "text": [
      " 50%|█████     | 10/20 [02:24<02:23, 14.34s/it]"
     ]
    },
    {
     "name": "stdout",
     "output_type": "stream",
     "text": [
      "\n",
      "Training for Sparsity Level: 0.8\n",
      "\n",
      "Training Loss: 2.3018, Training Acc: 11.2017\n"
     ]
    },
    {
     "name": "stderr",
     "output_type": "stream",
     "text": [
      " 55%|█████▌    | 11/20 [02:38<02:08, 14.33s/it]"
     ]
    },
    {
     "name": "stdout",
     "output_type": "stream",
     "text": [
      "\n",
      "Training for Sparsity Level: 0.8\n",
      "\n",
      "Training Loss: 2.3018, Training Acc: 11.1950\n"
     ]
    },
    {
     "name": "stderr",
     "output_type": "stream",
     "text": [
      " 60%|██████    | 12/20 [02:52<01:55, 14.38s/it]"
     ]
    },
    {
     "name": "stdout",
     "output_type": "stream",
     "text": [
      "\n",
      "Training for Sparsity Level: 0.8\n",
      "\n",
      "Training Loss: 2.3018, Training Acc: 11.1967\n"
     ]
    },
    {
     "name": "stderr",
     "output_type": "stream",
     "text": [
      " 65%|██████▌   | 13/20 [03:07<01:40, 14.34s/it]"
     ]
    },
    {
     "name": "stdout",
     "output_type": "stream",
     "text": [
      "\n",
      "Training for Sparsity Level: 0.8\n",
      "\n",
      "Training Loss: 2.3018, Training Acc: 11.1883\n"
     ]
    },
    {
     "name": "stderr",
     "output_type": "stream",
     "text": [
      " 70%|███████   | 14/20 [03:21<01:25, 14.31s/it]"
     ]
    },
    {
     "name": "stdout",
     "output_type": "stream",
     "text": [
      "\n",
      "Training for Sparsity Level: 0.8\n",
      "\n",
      "Training Loss: 2.3017, Training Acc: 11.1467\n"
     ]
    },
    {
     "name": "stderr",
     "output_type": "stream",
     "text": [
      " 75%|███████▌  | 15/20 [03:35<01:11, 14.37s/it]"
     ]
    },
    {
     "name": "stdout",
     "output_type": "stream",
     "text": [
      "\n",
      "Training for Sparsity Level: 0.8\n",
      "\n",
      "Training Loss: 2.3016, Training Acc: 11.1217\n"
     ]
    },
    {
     "name": "stderr",
     "output_type": "stream",
     "text": [
      " 80%|████████  | 16/20 [03:50<00:57, 14.47s/it]"
     ]
    },
    {
     "name": "stdout",
     "output_type": "stream",
     "text": [
      "\n",
      "Training for Sparsity Level: 0.8\n",
      "\n",
      "Training Loss: 2.3021, Training Acc: 11.1650\n"
     ]
    },
    {
     "name": "stderr",
     "output_type": "stream",
     "text": [
      " 85%|████████▌ | 17/20 [04:04<00:43, 14.39s/it]"
     ]
    },
    {
     "name": "stdout",
     "output_type": "stream",
     "text": [
      "\n",
      "Training for Sparsity Level: 0.8\n",
      "\n",
      "Training Loss: 2.3017, Training Acc: 11.1867\n"
     ]
    },
    {
     "name": "stderr",
     "output_type": "stream",
     "text": [
      " 90%|█████████ | 18/20 [04:18<00:28, 14.34s/it]"
     ]
    },
    {
     "name": "stdout",
     "output_type": "stream",
     "text": [
      "\n",
      "Training for Sparsity Level: 0.8\n",
      "\n",
      "Training Loss: 2.3016, Training Acc: 11.2050\n"
     ]
    },
    {
     "name": "stderr",
     "output_type": "stream",
     "text": [
      " 95%|█████████▌| 19/20 [04:33<00:14, 14.38s/it]"
     ]
    },
    {
     "name": "stdout",
     "output_type": "stream",
     "text": [
      "\n",
      "Training for Sparsity Level: 0.8\n",
      "\n",
      "Training Loss: 2.3017, Training Acc: 11.2283\n"
     ]
    },
    {
     "name": "stderr",
     "output_type": "stream",
     "text": [
      "100%|██████████| 20/20 [04:47<00:00, 14.40s/it]\n"
     ]
    },
    {
     "name": "stdout",
     "output_type": "stream",
     "text": [
      "\n",
      "Finished training for Sparsity Level: 0.8\n",
      "\n",
      "Test Loss: 2.3016, Test Acc: 11.3500\n"
     ]
    },
    {
     "name": "stderr",
     "output_type": "stream",
     "text": [
      "  0%|          | 0/20 [00:00<?, ?it/s]"
     ]
    },
    {
     "name": "stdout",
     "output_type": "stream",
     "text": [
      "\n",
      "Training for Sparsity Level: 0.85\n",
      "\n",
      "Training Loss: 2.3019, Training Acc: 11.1717\n"
     ]
    },
    {
     "name": "stderr",
     "output_type": "stream",
     "text": [
      "  5%|▌         | 1/20 [00:14<04:31, 14.29s/it]"
     ]
    },
    {
     "name": "stdout",
     "output_type": "stream",
     "text": [
      "\n",
      "Training for Sparsity Level: 0.85\n",
      "\n",
      "Training Loss: 2.3017, Training Acc: 11.1450\n"
     ]
    },
    {
     "name": "stderr",
     "output_type": "stream",
     "text": [
      " 10%|█         | 2/20 [00:28<04:17, 14.32s/it]"
     ]
    },
    {
     "name": "stdout",
     "output_type": "stream",
     "text": [
      "\n",
      "Training for Sparsity Level: 0.85\n",
      "\n",
      "Training Loss: 2.3018, Training Acc: 11.1250\n"
     ]
    },
    {
     "name": "stderr",
     "output_type": "stream",
     "text": [
      " 15%|█▌        | 3/20 [00:43<04:04, 14.41s/it]"
     ]
    },
    {
     "name": "stdout",
     "output_type": "stream",
     "text": [
      "\n",
      "Training for Sparsity Level: 0.85\n",
      "\n",
      "Training Loss: 2.3018, Training Acc: 11.1717\n"
     ]
    },
    {
     "name": "stderr",
     "output_type": "stream",
     "text": [
      " 20%|██        | 4/20 [00:57<03:51, 14.44s/it]"
     ]
    },
    {
     "name": "stdout",
     "output_type": "stream",
     "text": [
      "\n",
      "Training for Sparsity Level: 0.85\n",
      "\n",
      "Training Loss: 2.3017, Training Acc: 11.2067\n"
     ]
    },
    {
     "name": "stderr",
     "output_type": "stream",
     "text": [
      " 25%|██▌       | 5/20 [01:12<03:38, 14.57s/it]"
     ]
    },
    {
     "name": "stdout",
     "output_type": "stream",
     "text": [
      "\n",
      "Training for Sparsity Level: 0.85\n",
      "\n",
      "Training Loss: 2.3017, Training Acc: 11.1633\n"
     ]
    },
    {
     "name": "stderr",
     "output_type": "stream",
     "text": [
      " 30%|███       | 6/20 [01:27<03:23, 14.54s/it]"
     ]
    },
    {
     "name": "stdout",
     "output_type": "stream",
     "text": [
      "\n",
      "Training for Sparsity Level: 0.85\n",
      "\n",
      "Training Loss: 2.3018, Training Acc: 11.1667\n"
     ]
    },
    {
     "name": "stderr",
     "output_type": "stream",
     "text": [
      " 35%|███▌      | 7/20 [01:41<03:09, 14.56s/it]"
     ]
    },
    {
     "name": "stdout",
     "output_type": "stream",
     "text": [
      "\n",
      "Training for Sparsity Level: 0.85\n",
      "\n",
      "Training Loss: 2.3017, Training Acc: 11.1617\n"
     ]
    },
    {
     "name": "stderr",
     "output_type": "stream",
     "text": [
      " 40%|████      | 8/20 [01:56<02:54, 14.55s/it]"
     ]
    },
    {
     "name": "stdout",
     "output_type": "stream",
     "text": [
      "\n",
      "Training for Sparsity Level: 0.85\n",
      "\n",
      "Training Loss: 2.3018, Training Acc: 11.1450\n"
     ]
    },
    {
     "name": "stderr",
     "output_type": "stream",
     "text": [
      " 45%|████▌     | 9/20 [02:10<02:40, 14.57s/it]"
     ]
    },
    {
     "name": "stdout",
     "output_type": "stream",
     "text": [
      "\n",
      "Training for Sparsity Level: 0.85\n",
      "\n",
      "Training Loss: 2.3018, Training Acc: 11.1500\n"
     ]
    },
    {
     "name": "stderr",
     "output_type": "stream",
     "text": [
      " 50%|█████     | 10/20 [02:25<02:25, 14.53s/it]"
     ]
    },
    {
     "name": "stdout",
     "output_type": "stream",
     "text": [
      "\n",
      "Training for Sparsity Level: 0.85\n",
      "\n",
      "Training Loss: 2.3016, Training Acc: 11.1700\n"
     ]
    },
    {
     "name": "stderr",
     "output_type": "stream",
     "text": [
      " 55%|█████▌    | 11/20 [02:39<02:10, 14.48s/it]"
     ]
    },
    {
     "name": "stdout",
     "output_type": "stream",
     "text": [
      "\n",
      "Training for Sparsity Level: 0.85\n",
      "\n",
      "Training Loss: 2.3017, Training Acc: 11.1817\n"
     ]
    },
    {
     "name": "stderr",
     "output_type": "stream",
     "text": [
      " 60%|██████    | 12/20 [02:54<01:55, 14.43s/it]"
     ]
    },
    {
     "name": "stdout",
     "output_type": "stream",
     "text": [
      "\n",
      "Training for Sparsity Level: 0.85\n",
      "\n",
      "Training Loss: 2.3017, Training Acc: 11.1217\n"
     ]
    },
    {
     "name": "stderr",
     "output_type": "stream",
     "text": [
      " 65%|██████▌   | 13/20 [03:08<01:40, 14.42s/it]"
     ]
    },
    {
     "name": "stdout",
     "output_type": "stream",
     "text": [
      "\n",
      "Training for Sparsity Level: 0.85\n",
      "\n",
      "Training Loss: 2.3018, Training Acc: 11.1950\n"
     ]
    },
    {
     "name": "stderr",
     "output_type": "stream",
     "text": [
      " 70%|███████   | 14/20 [03:22<01:26, 14.43s/it]"
     ]
    },
    {
     "name": "stdout",
     "output_type": "stream",
     "text": [
      "\n",
      "Training for Sparsity Level: 0.85\n",
      "\n",
      "Training Loss: 2.3018, Training Acc: 11.1917\n"
     ]
    },
    {
     "name": "stderr",
     "output_type": "stream",
     "text": [
      " 75%|███████▌  | 15/20 [03:37<01:12, 14.44s/it]"
     ]
    },
    {
     "name": "stdout",
     "output_type": "stream",
     "text": [
      "\n",
      "Training for Sparsity Level: 0.85\n",
      "\n",
      "Training Loss: 2.3017, Training Acc: 11.1767\n"
     ]
    },
    {
     "name": "stderr",
     "output_type": "stream",
     "text": [
      " 80%|████████  | 16/20 [03:51<00:57, 14.41s/it]"
     ]
    },
    {
     "name": "stdout",
     "output_type": "stream",
     "text": [
      "\n",
      "Training for Sparsity Level: 0.85\n",
      "\n",
      "Training Loss: 2.3016, Training Acc: 11.1683\n"
     ]
    },
    {
     "name": "stderr",
     "output_type": "stream",
     "text": [
      " 85%|████████▌ | 17/20 [04:06<00:43, 14.41s/it]"
     ]
    },
    {
     "name": "stdout",
     "output_type": "stream",
     "text": [
      "\n",
      "Training for Sparsity Level: 0.85\n",
      "\n",
      "Training Loss: 2.3018, Training Acc: 11.1933\n"
     ]
    },
    {
     "name": "stderr",
     "output_type": "stream",
     "text": [
      " 90%|█████████ | 18/20 [04:20<00:28, 14.36s/it]"
     ]
    },
    {
     "name": "stdout",
     "output_type": "stream",
     "text": [
      "\n",
      "Training for Sparsity Level: 0.85\n",
      "\n",
      "Training Loss: 2.3017, Training Acc: 11.1583\n"
     ]
    },
    {
     "name": "stderr",
     "output_type": "stream",
     "text": [
      " 95%|█████████▌| 19/20 [04:34<00:14, 14.37s/it]"
     ]
    },
    {
     "name": "stdout",
     "output_type": "stream",
     "text": [
      "\n",
      "Training for Sparsity Level: 0.85\n",
      "\n",
      "Training Loss: 2.3017, Training Acc: 11.1433\n"
     ]
    },
    {
     "name": "stderr",
     "output_type": "stream",
     "text": [
      "100%|██████████| 20/20 [04:48<00:00, 14.45s/it]\n"
     ]
    },
    {
     "name": "stdout",
     "output_type": "stream",
     "text": [
      "\n",
      "Finished training for Sparsity Level: 0.85\n",
      "\n",
      "Test Loss: 2.3034, Test Acc: 11.3500\n"
     ]
    },
    {
     "name": "stderr",
     "output_type": "stream",
     "text": [
      "  0%|          | 0/20 [00:00<?, ?it/s]"
     ]
    },
    {
     "name": "stdout",
     "output_type": "stream",
     "text": [
      "\n",
      "Training for Sparsity Level: 0.9\n",
      "\n",
      "Training Loss: 1.3555, Training Acc: 51.8617\n"
     ]
    },
    {
     "name": "stderr",
     "output_type": "stream",
     "text": [
      "  5%|▌         | 1/20 [00:14<04:33, 14.39s/it]"
     ]
    },
    {
     "name": "stdout",
     "output_type": "stream",
     "text": [
      "\n",
      "Training for Sparsity Level: 0.9\n",
      "\n",
      "Training Loss: 0.9884, Training Acc: 66.8417\n"
     ]
    },
    {
     "name": "stderr",
     "output_type": "stream",
     "text": [
      " 10%|█         | 2/20 [00:29<04:20, 14.46s/it]"
     ]
    },
    {
     "name": "stdout",
     "output_type": "stream",
     "text": [
      "\n",
      "Training for Sparsity Level: 0.9\n",
      "\n",
      "Training Loss: 0.8873, Training Acc: 69.9000\n"
     ]
    },
    {
     "name": "stderr",
     "output_type": "stream",
     "text": [
      " 15%|█▌        | 3/20 [00:43<04:05, 14.45s/it]"
     ]
    },
    {
     "name": "stdout",
     "output_type": "stream",
     "text": [
      "\n",
      "Training for Sparsity Level: 0.9\n",
      "\n",
      "Training Loss: 0.9084, Training Acc: 69.2733\n"
     ]
    },
    {
     "name": "stderr",
     "output_type": "stream",
     "text": [
      " 20%|██        | 4/20 [00:57<03:51, 14.47s/it]"
     ]
    },
    {
     "name": "stdout",
     "output_type": "stream",
     "text": [
      "\n",
      "Training for Sparsity Level: 0.9\n",
      "\n",
      "Training Loss: 0.9013, Training Acc: 69.6133\n"
     ]
    },
    {
     "name": "stderr",
     "output_type": "stream",
     "text": [
      " 25%|██▌       | 5/20 [01:12<03:37, 14.51s/it]"
     ]
    },
    {
     "name": "stdout",
     "output_type": "stream",
     "text": [
      "\n",
      "Training for Sparsity Level: 0.9\n",
      "\n",
      "Training Loss: 0.8425, Training Acc: 71.4600\n"
     ]
    },
    {
     "name": "stderr",
     "output_type": "stream",
     "text": [
      " 30%|███       | 6/20 [01:26<03:22, 14.44s/it]"
     ]
    },
    {
     "name": "stdout",
     "output_type": "stream",
     "text": [
      "\n",
      "Training for Sparsity Level: 0.9\n",
      "\n",
      "Training Loss: 0.8846, Training Acc: 70.0550\n"
     ]
    },
    {
     "name": "stderr",
     "output_type": "stream",
     "text": [
      " 35%|███▌      | 7/20 [01:41<03:07, 14.41s/it]"
     ]
    },
    {
     "name": "stdout",
     "output_type": "stream",
     "text": [
      "\n",
      "Training for Sparsity Level: 0.9\n",
      "\n",
      "Training Loss: 0.8722, Training Acc: 70.5000\n"
     ]
    },
    {
     "name": "stderr",
     "output_type": "stream",
     "text": [
      " 40%|████      | 8/20 [01:55<02:53, 14.42s/it]"
     ]
    },
    {
     "name": "stdout",
     "output_type": "stream",
     "text": [
      "\n",
      "Training for Sparsity Level: 0.9\n",
      "\n",
      "Training Loss: 0.8263, Training Acc: 71.7900\n"
     ]
    },
    {
     "name": "stderr",
     "output_type": "stream",
     "text": [
      " 45%|████▌     | 9/20 [02:10<02:39, 14.50s/it]"
     ]
    },
    {
     "name": "stdout",
     "output_type": "stream",
     "text": [
      "\n",
      "Training for Sparsity Level: 0.9\n",
      "\n",
      "Training Loss: 0.8341, Training Acc: 71.5767\n"
     ]
    },
    {
     "name": "stderr",
     "output_type": "stream",
     "text": [
      " 50%|█████     | 10/20 [02:24<02:24, 14.45s/it]"
     ]
    },
    {
     "name": "stdout",
     "output_type": "stream",
     "text": [
      "\n",
      "Training for Sparsity Level: 0.9\n",
      "\n",
      "Training Loss: 0.8507, Training Acc: 71.1683\n"
     ]
    },
    {
     "name": "stderr",
     "output_type": "stream",
     "text": [
      " 55%|█████▌    | 11/20 [02:38<02:09, 14.41s/it]"
     ]
    },
    {
     "name": "stdout",
     "output_type": "stream",
     "text": [
      "\n",
      "Training for Sparsity Level: 0.9\n",
      "\n",
      "Training Loss: 0.8191, Training Acc: 72.0783\n"
     ]
    },
    {
     "name": "stderr",
     "output_type": "stream",
     "text": [
      " 60%|██████    | 12/20 [02:53<01:55, 14.41s/it]"
     ]
    },
    {
     "name": "stdout",
     "output_type": "stream",
     "text": [
      "\n",
      "Training for Sparsity Level: 0.9\n",
      "\n",
      "Training Loss: 0.8334, Training Acc: 71.6783\n"
     ]
    },
    {
     "name": "stderr",
     "output_type": "stream",
     "text": [
      " 65%|██████▌   | 13/20 [03:07<01:40, 14.40s/it]"
     ]
    },
    {
     "name": "stdout",
     "output_type": "stream",
     "text": [
      "\n",
      "Training for Sparsity Level: 0.9\n",
      "\n",
      "Training Loss: 0.8439, Training Acc: 71.5450\n"
     ]
    },
    {
     "name": "stderr",
     "output_type": "stream",
     "text": [
      " 70%|███████   | 14/20 [03:22<01:26, 14.43s/it]"
     ]
    },
    {
     "name": "stdout",
     "output_type": "stream",
     "text": [
      "\n",
      "Training for Sparsity Level: 0.9\n",
      "\n",
      "Training Loss: 0.8421, Training Acc: 71.4767\n"
     ]
    },
    {
     "name": "stderr",
     "output_type": "stream",
     "text": [
      " 75%|███████▌  | 15/20 [03:37<01:12, 14.53s/it]"
     ]
    },
    {
     "name": "stdout",
     "output_type": "stream",
     "text": [
      "\n",
      "Training for Sparsity Level: 0.9\n",
      "\n",
      "Training Loss: 0.8406, Training Acc: 71.6117\n"
     ]
    },
    {
     "name": "stderr",
     "output_type": "stream",
     "text": [
      " 80%|████████  | 16/20 [03:51<00:57, 14.45s/it]"
     ]
    },
    {
     "name": "stdout",
     "output_type": "stream",
     "text": [
      "\n",
      "Training for Sparsity Level: 0.9\n",
      "\n",
      "Training Loss: 0.7965, Training Acc: 73.2083\n"
     ]
    },
    {
     "name": "stderr",
     "output_type": "stream",
     "text": [
      " 85%|████████▌ | 17/20 [04:05<00:43, 14.41s/it]"
     ]
    },
    {
     "name": "stdout",
     "output_type": "stream",
     "text": [
      "\n",
      "Training for Sparsity Level: 0.9\n",
      "\n",
      "Training Loss: 0.8233, Training Acc: 72.1400\n"
     ]
    },
    {
     "name": "stderr",
     "output_type": "stream",
     "text": [
      " 90%|█████████ | 18/20 [04:19<00:28, 14.37s/it]"
     ]
    },
    {
     "name": "stdout",
     "output_type": "stream",
     "text": [
      "\n",
      "Training for Sparsity Level: 0.9\n",
      "\n",
      "Training Loss: 0.7914, Training Acc: 73.1717\n"
     ]
    },
    {
     "name": "stderr",
     "output_type": "stream",
     "text": [
      " 95%|█████████▌| 19/20 [04:34<00:14, 14.36s/it]"
     ]
    },
    {
     "name": "stdout",
     "output_type": "stream",
     "text": [
      "\n",
      "Training for Sparsity Level: 0.9\n",
      "\n",
      "Training Loss: 0.8236, Training Acc: 72.1833\n"
     ]
    },
    {
     "name": "stderr",
     "output_type": "stream",
     "text": [
      "100%|██████████| 20/20 [04:48<00:00, 14.43s/it]\n"
     ]
    },
    {
     "name": "stdout",
     "output_type": "stream",
     "text": [
      "\n",
      "Finished training for Sparsity Level: 0.9\n",
      "\n",
      "Test Loss: 0.9078, Test Acc: 69.2700\n"
     ]
    },
    {
     "name": "stderr",
     "output_type": "stream",
     "text": [
      "  0%|          | 0/20 [00:00<?, ?it/s]"
     ]
    },
    {
     "name": "stdout",
     "output_type": "stream",
     "text": [
      "\n",
      "Training for Sparsity Level: 0.95\n",
      "\n",
      "Training Loss: 1.4224, Training Acc: 50.6583\n"
     ]
    },
    {
     "name": "stderr",
     "output_type": "stream",
     "text": [
      "  5%|▌         | 1/20 [00:14<04:29, 14.21s/it]"
     ]
    },
    {
     "name": "stdout",
     "output_type": "stream",
     "text": [
      "\n",
      "Training for Sparsity Level: 0.95\n",
      "\n",
      "Training Loss: 1.3459, Training Acc: 53.5717\n"
     ]
    },
    {
     "name": "stderr",
     "output_type": "stream",
     "text": [
      " 10%|█         | 2/20 [00:28<04:16, 14.26s/it]"
     ]
    },
    {
     "name": "stdout",
     "output_type": "stream",
     "text": [
      "\n",
      "Training for Sparsity Level: 0.95\n",
      "\n",
      "Training Loss: 1.4468, Training Acc: 49.4300\n"
     ]
    },
    {
     "name": "stderr",
     "output_type": "stream",
     "text": [
      " 15%|█▌        | 3/20 [00:42<04:02, 14.28s/it]"
     ]
    },
    {
     "name": "stdout",
     "output_type": "stream",
     "text": [
      "\n",
      "Training for Sparsity Level: 0.95\n",
      "\n",
      "Training Loss: 1.4360, Training Acc: 49.6700\n"
     ]
    },
    {
     "name": "stderr",
     "output_type": "stream",
     "text": [
      " 20%|██        | 4/20 [00:57<03:48, 14.27s/it]"
     ]
    },
    {
     "name": "stdout",
     "output_type": "stream",
     "text": [
      "\n",
      "Training for Sparsity Level: 0.95\n",
      "\n",
      "Training Loss: 1.3948, Training Acc: 51.0800\n"
     ]
    },
    {
     "name": "stderr",
     "output_type": "stream",
     "text": [
      " 25%|██▌       | 5/20 [01:11<03:34, 14.28s/it]"
     ]
    },
    {
     "name": "stdout",
     "output_type": "stream",
     "text": [
      "\n",
      "Training for Sparsity Level: 0.95\n",
      "\n",
      "Training Loss: 1.4201, Training Acc: 50.7367\n"
     ]
    },
    {
     "name": "stderr",
     "output_type": "stream",
     "text": [
      " 30%|███       | 6/20 [01:25<03:19, 14.26s/it]"
     ]
    },
    {
     "name": "stdout",
     "output_type": "stream",
     "text": [
      "\n",
      "Training for Sparsity Level: 0.95\n",
      "\n",
      "Training Loss: 1.3785, Training Acc: 51.8300\n"
     ]
    },
    {
     "name": "stderr",
     "output_type": "stream",
     "text": [
      " 35%|███▌      | 7/20 [01:39<03:05, 14.23s/it]"
     ]
    },
    {
     "name": "stdout",
     "output_type": "stream",
     "text": [
      "\n",
      "Training for Sparsity Level: 0.95\n",
      "\n",
      "Training Loss: 1.3295, Training Acc: 53.8817\n"
     ]
    },
    {
     "name": "stderr",
     "output_type": "stream",
     "text": [
      " 40%|████      | 8/20 [01:54<02:50, 14.24s/it]"
     ]
    },
    {
     "name": "stdout",
     "output_type": "stream",
     "text": [
      "\n",
      "Training for Sparsity Level: 0.95\n",
      "\n",
      "Training Loss: 1.3497, Training Acc: 52.7717\n"
     ]
    },
    {
     "name": "stderr",
     "output_type": "stream",
     "text": [
      " 45%|████▌     | 9/20 [02:08<02:37, 14.32s/it]"
     ]
    },
    {
     "name": "stdout",
     "output_type": "stream",
     "text": [
      "\n",
      "Training for Sparsity Level: 0.95\n",
      "\n",
      "Training Loss: 1.3328, Training Acc: 53.5800\n"
     ]
    },
    {
     "name": "stderr",
     "output_type": "stream",
     "text": [
      " 50%|█████     | 10/20 [02:23<02:23, 14.37s/it]"
     ]
    },
    {
     "name": "stdout",
     "output_type": "stream",
     "text": [
      "\n",
      "Training for Sparsity Level: 0.95\n",
      "\n",
      "Training Loss: 1.3490, Training Acc: 53.2817\n"
     ]
    },
    {
     "name": "stderr",
     "output_type": "stream",
     "text": [
      " 55%|█████▌    | 11/20 [02:37<02:08, 14.32s/it]"
     ]
    },
    {
     "name": "stdout",
     "output_type": "stream",
     "text": [
      "\n",
      "Training for Sparsity Level: 0.95\n",
      "\n",
      "Training Loss: 1.3785, Training Acc: 51.7883\n"
     ]
    },
    {
     "name": "stderr",
     "output_type": "stream",
     "text": [
      " 60%|██████    | 12/20 [02:51<01:54, 14.32s/it]"
     ]
    },
    {
     "name": "stdout",
     "output_type": "stream",
     "text": [
      "\n",
      "Training for Sparsity Level: 0.95\n",
      "\n",
      "Training Loss: 1.3611, Training Acc: 52.8200\n"
     ]
    },
    {
     "name": "stderr",
     "output_type": "stream",
     "text": [
      " 65%|██████▌   | 13/20 [03:06<01:40, 14.42s/it]"
     ]
    },
    {
     "name": "stdout",
     "output_type": "stream",
     "text": [
      "\n",
      "Training for Sparsity Level: 0.95\n",
      "\n",
      "Training Loss: 1.3152, Training Acc: 54.3250\n"
     ]
    },
    {
     "name": "stderr",
     "output_type": "stream",
     "text": [
      " 70%|███████   | 14/20 [03:21<01:27, 14.51s/it]"
     ]
    },
    {
     "name": "stdout",
     "output_type": "stream",
     "text": [
      "\n",
      "Training for Sparsity Level: 0.95\n",
      "\n",
      "Training Loss: 1.3322, Training Acc: 53.5950\n"
     ]
    },
    {
     "name": "stderr",
     "output_type": "stream",
     "text": [
      " 75%|███████▌  | 15/20 [03:35<01:12, 14.59s/it]"
     ]
    },
    {
     "name": "stdout",
     "output_type": "stream",
     "text": [
      "\n",
      "Training for Sparsity Level: 0.95\n",
      "\n",
      "Training Loss: 1.3233, Training Acc: 54.2117\n"
     ]
    },
    {
     "name": "stderr",
     "output_type": "stream",
     "text": [
      " 80%|████████  | 16/20 [03:50<00:57, 14.49s/it]"
     ]
    },
    {
     "name": "stdout",
     "output_type": "stream",
     "text": [
      "\n",
      "Training for Sparsity Level: 0.95\n",
      "\n",
      "Training Loss: 1.3763, Training Acc: 52.5433\n"
     ]
    },
    {
     "name": "stderr",
     "output_type": "stream",
     "text": [
      " 85%|████████▌ | 17/20 [04:04<00:43, 14.42s/it]"
     ]
    },
    {
     "name": "stdout",
     "output_type": "stream",
     "text": [
      "\n",
      "Training for Sparsity Level: 0.95\n",
      "\n",
      "Training Loss: 1.3572, Training Acc: 52.9300\n"
     ]
    },
    {
     "name": "stderr",
     "output_type": "stream",
     "text": [
      " 90%|█████████ | 18/20 [04:18<00:28, 14.39s/it]"
     ]
    },
    {
     "name": "stdout",
     "output_type": "stream",
     "text": [
      "\n",
      "Training for Sparsity Level: 0.95\n",
      "\n",
      "Training Loss: 1.3836, Training Acc: 52.3250\n"
     ]
    },
    {
     "name": "stderr",
     "output_type": "stream",
     "text": [
      " 95%|█████████▌| 19/20 [04:32<00:14, 14.38s/it]"
     ]
    },
    {
     "name": "stdout",
     "output_type": "stream",
     "text": [
      "\n",
      "Training for Sparsity Level: 0.95\n",
      "\n",
      "Training Loss: 1.3305, Training Acc: 53.7050\n"
     ]
    },
    {
     "name": "stderr",
     "output_type": "stream",
     "text": [
      "100%|██████████| 20/20 [04:47<00:00, 14.36s/it]"
     ]
    },
    {
     "name": "stdout",
     "output_type": "stream",
     "text": [
      "\n",
      "Finished training for Sparsity Level: 0.95\n",
      "\n",
      "Test Loss: 1.2574, Test Acc: 56.2200\n"
     ]
    },
    {
     "name": "stderr",
     "output_type": "stream",
     "text": [
      "\n"
     ]
    }
   ],
   "source": [
    "\n",
    "spar_levels = [0, 0.1, 0.2, 0.3, 0.4, 0.5, 0.6, 0.7, 0.8, 0.85, 0.9, 0.95]\n",
    "batch_size_train = 64\n",
    "batch_size_test = 1000\n",
    "n_epochs = 20  \n",
    "learning_rate = 0.005\n",
    "weight_decay = 1e-3\n",
    "device = torch.device(\"cuda\" if torch.cuda.is_available() else \"cpu\")\n",
    "\n",
    "for i in range(len(spar_levels)):\n",
    "    the_transform = transforms.Compose([\n",
    "        transforms.ToTensor(),\n",
    "        transforms.Normalize((0.1307,), (0.3081,))\n",
    "    ])\n",
    "\n",
    "    sparsity_level = spar_levels[i]\n",
    "\n",
    "    training_set = SparseDatasetMNIST(file_path='C:/Users/79003/Desktop/mnist/data/mnist_train.csv',\n",
    "                                      transform=the_transform, sparsity_level=sparsity_level)\n",
    "    train_loader = torch.utils.data.DataLoader(training_set, batch_size=batch_size_train, shuffle=True)\n",
    "\n",
    "    test_set = SparseDatasetMNIST(file_path='C:/Users/79003/Desktop/mnist/data/mnist_test.csv',\n",
    "                                  transform=the_transform, sparsity_level=sparsity_level)\n",
    "    test_loader = torch.utils.data.DataLoader(test_set, batch_size=batch_size_test, shuffle=False)\n",
    "\n",
    "    model = ConvNet()\n",
    "\n",
    "    criterion = nn.CrossEntropyLoss()\n",
    "    optimizer = optim.Adam(model.parameters(), lr=learning_rate, weight_decay=weight_decay)\n",
    "\n",
    "    model = model.to(device)\n",
    "\n",
    "    train_losses = []\n",
    "    train_accuracy = []\n",
    "    train_counter = []\n",
    "    test_losses = []\n",
    "    test_accuracy = []\n",
    "\n",
    "    for epoch in tqdm(range(n_epochs)):\n",
    "        # Train on data\n",
    "        train_loss, train_acc = train(train_loader, model, optimizer, criterion, device)\n",
    "        train_losses.append(train_loss)\n",
    "        train_accuracy.append(train_acc)\n",
    "        print('\\nTraining for Sparsity Level: {}'.format(sparsity_level))\n",
    "        print('\\nTraining Loss: {:.4f}, Training Acc: {:.4f}'.format(train_loss, train_acc))\n",
    "\n",
    "        # Test on data\n",
    "        test_loss, test_acc = test(test_loader, model, criterion, device)\n",
    "        test_losses.append(test_loss)\n",
    "        test_accuracy.append(test_acc)\n",
    "\n",
    "    print('\\nFinished training for Sparsity Level: {}'.format(sparsity_level))\n",
    "    print('\\nTest Loss: {:.4f}, Test Acc: {:.4f}'.format(test_loss, test_acc))\n"
   ]
  }
 ],
 "metadata": {
  "kernelspec": {
   "display_name": "bayesianproject",
   "language": "python",
   "name": "python3"
  },
  "language_info": {
   "codemirror_mode": {
    "name": "ipython",
    "version": 3
   },
   "file_extension": ".py",
   "mimetype": "text/x-python",
   "name": "python",
   "nbconvert_exporter": "python",
   "pygments_lexer": "ipython3",
   "version": "3.12.2"
  }
 },
 "nbformat": 4,
 "nbformat_minor": 2
}
